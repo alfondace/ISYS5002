{
  "nbformat": 4,
  "nbformat_minor": 0,
  "metadata": {
    "colab": {
      "name": "03_Payslip.ipynb",
      "provenance": [],
      "collapsed_sections": [],
      "include_colab_link": true
    },
    "kernelspec": {
      "name": "python3",
      "display_name": "Python 3"
    },
    "language_info": {
      "name": "python"
    }
  },
  "cells": [
    {
      "cell_type": "markdown",
      "metadata": {
        "id": "view-in-github",
        "colab_type": "text"
      },
      "source": [
        "<a href=\"https://colab.research.google.com/github/alfondace/ISYS5002/blob/main/03_Payslip.ipynb\" target=\"_parent\"><img src=\"https://colab.research.google.com/assets/colab-badge.svg\" alt=\"Open In Colab\"/></a>"
      ]
    },
    {
      "cell_type": "markdown",
      "source": [
        "# Task: Write a program to print out a payslip for hourly paid employees. <br>\n",
        "Modify the Gross pay activity to print out a payslip for hourly paid employees.<br>Refer to week 2's Gross Pay activity.\n",
        "\n",
        "[What has to be on a pay slip?](https://www.fairwork.gov.au/pay-and-wages/paying-wages/pay-slips#what-has-to-be-on-a-pay-slip)\n",
        "\n",
        "[Resident tax rates 2022–23](https://www.ato.gov.au/rates/individual-income-tax-rates/)"
      ],
      "metadata": {
        "id": "2jQsL4QPFfuG"
      }
    },
    {
      "cell_type": "markdown",
      "source": [
        "    Input: \n",
        "    employer’s and employee’s name\n",
        "    employer’s Australian Business Number (if applicable)\n",
        "    pay period\n",
        "    date of payment\n",
        "    gross and net pay\n",
        "\n",
        "    if the employee is paid an hourly rate:\n",
        "    the ordinary hourly rate\n",
        "    the number of hours worked at that rate\n",
        "    the total dollar amount of pay at that rate\n",
        "\n"
      ],
      "metadata": {
        "id": "DzKtnKI518AV"
      }
    },
    {
      "cell_type": "code",
      "execution_count": 15,
      "metadata": {
        "id": "bKtEUVfhD1GO",
        "colab": {
          "base_uri": "https://localhost:8080/"
        },
        "outputId": "b941cb99-5de9-4c71-954c-0d00460584d2"
      },
      "outputs": [
        {
          "output_type": "stream",
          "name": "stdout",
          "text": [
            "Enter employee name: Whenny\n",
            "Enter the start pay period date(dd-mm-yyyy): 20-20-2020\n",
            "Enter the end pay period date(dd-mm-yyyy): 20-20-2020\n",
            "Enter date of payment(dd-mm-yyyy): 20-20-2020\n",
            "Enter hourly pay: 30\n",
            "Enter hours worked: 1768\n",
            "Employee name: Whenny\n",
            "Payment periode: 20-20-2020 to 20-20-2020\n",
            "Payment date: 20-20-2020\n",
            "The yearly gross income is: $53040.0\n",
            "The tax payable is: $7705.0\n",
            "The net income is: $45335.0\n"
          ]
        }
      ],
      "source": [
        "# Input empoyee information\n",
        "Employee_Name = (input ('Enter employee name: '))\n",
        "Start_Pay_Period = str(input('Enter the start pay period date(dd-mm-yyyy): '))\n",
        "End_Pay_Period = str(input('Enter the end pay period date(dd-mm-yyyy): '))\n",
        "Payment_Date = str(input('Enter date of payment(dd-mm-yyyy): '))\n",
        "# Get the hourly pay\n",
        "Hpay = float(input ('Enter hourly pay: '))\n",
        "# Get the hours worked\n",
        "Hwork = int(input ('Enter hours worked: '))\n",
        "# let gross pay = hourly_pay * hours_worked\n",
        "Income = Hpay * Hwork\n",
        "# Display the employee information\n",
        "print(\"Employee name:\", Employee_Name)\n",
        "print('Payment periode:', Start_Pay_Period, 'to', End_Pay_Period)\n",
        "print('Payment date:', Payment_Date)\n",
        "# Display The yearly income\n",
        "print ('The yearly gross income is: $', Income, sep=\"\")\n",
        "# Tax Payable\n",
        "if Income <= 18200:\n",
        "  Tax_Payable = 0\n",
        "elif Income > 18200 and Income <= 45000:\n",
        "  Tax_Payable = (Income - 18200)*0.19\n",
        "elif 45000 < Income <= 120000:\n",
        "  Tax_Payable = ((Income - 45000)*0.325)+5092\n",
        "elif 120000 < Income <= 180000:\n",
        "  Tax_Payable = ((Income - 120000)*0.37)+29467\n",
        "elif Income > 180000:\n",
        "  Tax_Payable = ((Income - 180000)*0.45)+51667\n",
        "print(\"The tax payable is: $\", Tax_Payable, sep=\"\")\n",
        "# Net Income\n",
        "Net_Income = Income - Tax_Payable\n",
        "print(\"The net income is: $\", Net_Income, sep=\"\")"
      ]
    }
  ]
}