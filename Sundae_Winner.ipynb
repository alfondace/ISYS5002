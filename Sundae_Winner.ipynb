{
  "nbformat": 4,
  "nbformat_minor": 0,
  "metadata": {
    "colab": {
      "name": "Sundae Winner.ipynb",
      "provenance": [],
      "collapsed_sections": [],
      "authorship_tag": "ABX9TyMnWJ5VSF3kldneuUB2tTL9",
      "include_colab_link": true
    },
    "kernelspec": {
      "name": "python3",
      "display_name": "Python 3"
    },
    "language_info": {
      "name": "python"
    }
  },
  "cells": [
    {
      "cell_type": "markdown",
      "metadata": {
        "id": "view-in-github",
        "colab_type": "text"
      },
      "source": [
        "<a href=\"https://colab.research.google.com/github/alfondace/ISYS5002/blob/main/Sundae_Winner.ipynb\" target=\"_parent\"><img src=\"https://colab.research.google.com/assets/colab-badge.svg\" alt=\"Open In Colab\"/></a>"
      ]
    },
    {
      "cell_type": "markdown",
      "source": [
        "Program to choose sundae winner randomly"
      ],
      "metadata": {
        "id": "zccrlwJRD3DS"
      }
    },
    {
      "cell_type": "code",
      "execution_count": 33,
      "metadata": {
        "id": "kIyUr7T2C6NY"
      },
      "outputs": [],
      "source": [
        "customers = ['Jimmy', 'Kim', 'John', 'Stacie']"
      ]
    },
    {
      "cell_type": "code",
      "source": [
        "customers"
      ],
      "metadata": {
        "colab": {
          "base_uri": "https://localhost:8080/"
        },
        "id": "bTYcUu25FIhw",
        "outputId": "1efcfb13-f111-4afa-9442-3339e75c6f37"
      },
      "execution_count": 34,
      "outputs": [
        {
          "output_type": "execute_result",
          "data": {
            "text/plain": [
              "['Jimmy', 'Kim', 'John', 'Stacie']"
            ]
          },
          "metadata": {},
          "execution_count": 34
        }
      ]
    },
    {
      "cell_type": "code",
      "source": [
        "import random"
      ],
      "metadata": {
        "id": "h4GaFgrRFAkp"
      },
      "execution_count": null,
      "outputs": []
    },
    {
      "cell_type": "code",
      "source": [
        "winner = random.choice(customers)"
      ],
      "metadata": {
        "id": "3bNtFb5eDOXc"
      },
      "execution_count": null,
      "outputs": []
    },
    {
      "cell_type": "code",
      "source": [
        "winner"
      ],
      "metadata": {
        "colab": {
          "base_uri": "https://localhost:8080/",
          "height": 35
        },
        "id": "dG7ane8SFQ1J",
        "outputId": "b6888c41-fbda-4b70-cfe2-c69a6b9cdc72"
      },
      "execution_count": null,
      "outputs": [
        {
          "output_type": "execute_result",
          "data": {
            "text/plain": [
              "'Kim'"
            ],
            "application/vnd.google.colaboratory.intrinsic+json": {
              "type": "string"
            }
          },
          "metadata": {},
          "execution_count": 11
        }
      ]
    },
    {
      "cell_type": "code",
      "source": [
        "flavor = 'vanilla'"
      ],
      "metadata": {
        "id": "P2LaBujQDVhL"
      },
      "execution_count": null,
      "outputs": []
    },
    {
      "cell_type": "code",
      "source": [
        "print('Congratulations' + winner +\n",
        "' you have won an ice cream sundae!')"
      ],
      "metadata": {
        "id": "W6SgNSFeDVd3",
        "colab": {
          "base_uri": "https://localhost:8080/"
        },
        "outputId": "41d4712b-b69b-47cb-9d9e-3dcc19cbb853"
      },
      "execution_count": null,
      "outputs": [
        {
          "output_type": "stream",
          "name": "stdout",
          "text": [
            "CongratulationsKim you have won an ice cream sundae!\n"
          ]
        }
      ]
    },
    {
      "cell_type": "code",
      "source": [
        "prompt = 'Would you like a cherry on top? '"
      ],
      "metadata": {
        "id": "HpTLyRjEDVa2"
      },
      "execution_count": null,
      "outputs": []
    },
    {
      "cell_type": "code",
      "source": [
        "wants_cherry = input(prompt)"
      ],
      "metadata": {
        "id": "i_3bH8Y6DVYI",
        "colab": {
          "base_uri": "https://localhost:8080/"
        },
        "outputId": "816dc0be-6409-45d9-831c-ba9166224f69"
      },
      "execution_count": 37,
      "outputs": [
        {
          "name": "stdout",
          "output_type": "stream",
          "text": [
            "Would you like a cherry on top? yes\n"
          ]
        }
      ]
    },
    {
      "cell_type": "code",
      "source": [
        "order = flavor + ' sundae '"
      ],
      "metadata": {
        "id": "l5xIz55FDVNL"
      },
      "execution_count": null,
      "outputs": []
    },
    {
      "cell_type": "code",
      "source": [
        "if (wants_cherry == 'yes'):\n",
        "  order = order + ' with a cherry on top'"
      ],
      "metadata": {
        "id": "2HcEvpflDgAK"
      },
      "execution_count": 41,
      "outputs": []
    },
    {
      "cell_type": "code",
      "source": [
        "print('One ' + order + ' for ' + winner +\n",
        "' coming right up...')"
      ],
      "metadata": {
        "id": "e3scL5RGDf1M",
        "colab": {
          "base_uri": "https://localhost:8080/"
        },
        "outputId": "6848edaa-467f-42ac-c77c-36bcf1e2ce9a"
      },
      "execution_count": 42,
      "outputs": [
        {
          "output_type": "stream",
          "name": "stdout",
          "text": [
            "One vanilla sundae  with a cherry on top for Jimmy coming right up...\n"
          ]
        }
      ]
    },
    {
      "cell_type": "code",
      "source": [
        "import random\n",
        "customers = ['Jimmy', 'Kim', 'John', 'Stacie']\n",
        "winner = random.choice(customers)\n",
        "flavor = 'vanilla'\n",
        "print('Congratulations ' + winner +\n",
        "' you have won an ice cream sundae!')\n",
        "prompt = 'Would you like a cherry on top? '\n",
        "wants_cherry = input(prompt)\n",
        "order = flavor + ' sundae '\n",
        "if (wants_cherry == 'yes'):\n",
        "  order = order + ' with a cherry on top'\n",
        "print('One ' + order + ' for ' + winner +\n",
        "' coming right up...')"
      ],
      "metadata": {
        "colab": {
          "base_uri": "https://localhost:8080/"
        },
        "id": "V8z1JW56G6KK",
        "outputId": "d9ba8f6c-3cef-4cce-e30d-cf565a31de91"
      },
      "execution_count": 43,
      "outputs": [
        {
          "output_type": "stream",
          "name": "stdout",
          "text": [
            "Congratulations Jimmy you have won an ice cream sundae!\n",
            "Would you like a cherry on top? yes\n",
            "One vanilla sundae  with a cherry on top for Jimmy coming right up...\n"
          ]
        }
      ]
    }
  ]
}