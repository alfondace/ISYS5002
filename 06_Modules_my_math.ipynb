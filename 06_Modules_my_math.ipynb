{
  "nbformat": 4,
  "nbformat_minor": 0,
  "metadata": {
    "colab": {
      "name": "06_Modules_my_math.ipynb",
      "provenance": [],
      "collapsed_sections": [],
      "include_colab_link": true
    },
    "kernelspec": {
      "name": "python3",
      "display_name": "Python 3"
    },
    "language_info": {
      "name": "python"
    }
  },
  "cells": [
    {
      "cell_type": "markdown",
      "metadata": {
        "id": "view-in-github",
        "colab_type": "text"
      },
      "source": [
        "<a href=\"https://colab.research.google.com/github/alfondace/ISYS5002/blob/main/06_Modules_my_math.ipynb\" target=\"_parent\"><img src=\"https://colab.research.google.com/assets/colab-badge.svg\" alt=\"Open In Colab\"/></a>"
      ]
    },
    {
      "cell_type": "markdown",
      "source": [
        "Any Python file you create is a module that you can import. Here is a simple module that has some basic arithmetic functions in it. \n",
        "\n",
        "This code is very naive. You have no error handling at all, for example. What that means is that you could divide by zero and cause an exception to be thrown. You could also pass incompatible types to these functions, like a string and an integer -- that would cause a different kind of exception to be raised.\n",
        "\n",
        "However, for learning purposes, this code is adequate. "
      ],
      "metadata": {
        "id": "--JrhOOldrwN"
      }
    },
    {
      "cell_type": "code",
      "execution_count": 12,
      "metadata": {
        "id": "MUOoi228c_DS",
        "colab": {
          "base_uri": "https://localhost:8080/"
        },
        "outputId": "ec81f739-c58e-4d47-e4c1-5870fc3f4946"
      },
      "outputs": [
        {
          "output_type": "stream",
          "name": "stdout",
          "text": [
            "Overwriting my_math.py\n"
          ]
        }
      ],
      "source": [
        "%%writefile my_math.py\n",
        "\n",
        "def add(x, y):\n",
        "    '''Add two numbers'''\n",
        "    return x + y\n",
        "\n",
        "def divide(x, y):\n",
        "    '''Divide first by second number'''\n",
        "    return x / y\n",
        "\n",
        "def multiply(x, y):\n",
        "    '''Multiple two numbers'''\n",
        "    return x * y\n",
        "\n",
        "def subtract(x, y):\n",
        "    '''Subtract two numbers'''\n",
        "    return x - y"
      ]
    },
    {
      "cell_type": "code",
      "source": [
        "add(3,2)"
      ],
      "metadata": {
        "id": "BtazBxkzCfcb",
        "colab": {
          "base_uri": "https://localhost:8080/"
        },
        "outputId": "e375b32e-7594-4af0-d9cd-2e6f04000e70"
      },
      "execution_count": 13,
      "outputs": [
        {
          "output_type": "execute_result",
          "data": {
            "text/plain": [
              "5"
            ]
          },
          "metadata": {},
          "execution_count": 13
        }
      ]
    }
  ]
}