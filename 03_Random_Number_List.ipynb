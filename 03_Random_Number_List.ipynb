{
  "nbformat": 4,
  "nbformat_minor": 0,
  "metadata": {
    "colab": {
      "name": "03_Random Number List.ipynb",
      "provenance": [],
      "collapsed_sections": [
        "rtiCoY2fXsOm"
      ],
      "include_colab_link": true
    },
    "kernelspec": {
      "name": "python3",
      "display_name": "Python 3"
    },
    "language_info": {
      "name": "python"
    }
  },
  "cells": [
    {
      "cell_type": "markdown",
      "metadata": {
        "id": "view-in-github",
        "colab_type": "text"
      },
      "source": [
        "<a href=\"https://colab.research.google.com/github/alfondace/ISYS5002/blob/main/03_Random_Number_List.ipynb\" target=\"_parent\"><img src=\"https://colab.research.google.com/assets/colab-badge.svg\" alt=\"Open In Colab\"/></a>"
      ]
    },
    {
      "cell_type": "markdown",
      "source": [
        "## Task 0: Save the notebook to Github"
      ],
      "metadata": {
        "id": "rtiCoY2fXsOm"
      }
    },
    {
      "cell_type": "markdown",
      "source": [
        "## Task 1: Randomly generate numbers and store them in a list"
      ],
      "metadata": {
        "id": "JrutiGpyXUx3"
      }
    },
    {
      "cell_type": "markdown",
      "source": [
        "Generate Random Numbers"
      ],
      "metadata": {
        "id": "M-ACSr23IfGi"
      }
    },
    {
      "cell_type": "code",
      "execution_count": 13,
      "metadata": {
        "id": "XaXgvcY-XNE_",
        "colab": {
          "base_uri": "https://localhost:8080/"
        },
        "outputId": "5571ed3d-43d7-4db9-e16c-ab51943473b7"
      },
      "outputs": [
        {
          "output_type": "stream",
          "name": "stdout",
          "text": [
            "18\n"
          ]
        }
      ],
      "source": [
        "import random\n",
        "\n",
        "randNum = random.randint(10, 20)\n",
        "print(randNum)"
      ]
    },
    {
      "cell_type": "markdown",
      "source": [
        "Determine odd or even number"
      ],
      "metadata": {
        "id": "yLGgh1o2JP4S"
      }
    },
    {
      "cell_type": "code",
      "source": [
        "if randNum % 2 == 0:\n",
        "  print(randNum, \"is an even number\")\n",
        "else:\n",
        "  print(randNum, \"is an odd number\")"
      ],
      "metadata": {
        "colab": {
          "base_uri": "https://localhost:8080/"
        },
        "id": "f-guHD9cJVjv",
        "outputId": "fc652e94-1dd3-4991-eaf4-155cebc43b38"
      },
      "execution_count": 14,
      "outputs": [
        {
          "output_type": "stream",
          "name": "stdout",
          "text": [
            "18 is an even number\n"
          ]
        }
      ]
    },
    {
      "cell_type": "markdown",
      "source": [
        "Add the random number to a list"
      ],
      "metadata": {
        "id": "5N-cwRoKKPEV"
      }
    },
    {
      "cell_type": "code",
      "source": [
        "import random\n",
        "\n",
        "randlist = [] #create an empty list\n",
        "\n",
        "randNum = random.randint(10, 20) #generate a random number\n",
        "randlist.append(randNum)\n",
        "\n",
        "print(randlist)"
      ],
      "metadata": {
        "colab": {
          "base_uri": "https://localhost:8080/"
        },
        "id": "T0lg1rIMKObw",
        "outputId": "25dd2467-5542-4313-b347-c262100efae4"
      },
      "execution_count": 16,
      "outputs": [
        {
          "output_type": "stream",
          "name": "stdout",
          "text": [
            "[17]\n"
          ]
        }
      ]
    },
    {
      "cell_type": "code",
      "source": [
        "#generate and add 5 random numbers into the list\n",
        "\n",
        "import random\n",
        "\n",
        "randlist = [] #create an empty list\n",
        "\n",
        "for item in range (1,6):\n",
        "  randNum = random.randint(10, 20) #generate a random number\n",
        "  randlist.append(randNum)\n",
        "\n",
        "print(randlist)"
      ],
      "metadata": {
        "colab": {
          "base_uri": "https://localhost:8080/"
        },
        "id": "oMIFb0KPK9_l",
        "outputId": "30680dd3-77b7-4cb2-86e6-79f8a36d55d6"
      },
      "execution_count": 20,
      "outputs": [
        {
          "output_type": "stream",
          "name": "stdout",
          "text": [
            "[20, 17, 14, 17, 11]\n"
          ]
        }
      ]
    },
    {
      "cell_type": "code",
      "source": [
        "#Random numbers added to odd or even list\n",
        "\n",
        "import random\n",
        "\n",
        "randlist = [] #create an empty list\n",
        "evenlist = []\n",
        "oddlist = []\n",
        "\n",
        "for item in range (1,11):\n",
        "  randNum = random.randint(10, 20) #generate a random number\n",
        "  randlist.append(randNum)\n",
        "\n",
        "  if randNum % 2 == 0:\n",
        "    evenlist.append(randNum)\n",
        "    #print(randNum, \"is an even number\")\n",
        "  else:\n",
        "    oddlist.append(randNum)\n",
        "    #print(randNum, \"is an odd number\")\n",
        "\n",
        "print(randlist)\n",
        "print(\"The even number list is\", evenlist)\n",
        "print(\"The odd number list is\", oddlist)"
      ],
      "metadata": {
        "colab": {
          "base_uri": "https://localhost:8080/"
        },
        "id": "ESC27MOkLwVA",
        "outputId": "8908c97c-a9ff-41bd-b39f-4c29e6b3cf57"
      },
      "execution_count": 25,
      "outputs": [
        {
          "output_type": "stream",
          "name": "stdout",
          "text": [
            "[17, 17, 11, 15, 13, 13, 19, 11, 18, 20]\n",
            "The even number list is [18, 20]\n",
            "The odd number list is [17, 17, 11, 15, 13, 13, 19, 11]\n"
          ]
        }
      ]
    },
    {
      "cell_type": "markdown",
      "source": [
        "## Optional: \n",
        "### Randomly generate numbers and store in two lists: odd and even.\n",
        "### For each list find the minimum, maximum and average\n",
        "\n",
        "min(), max(), len()"
      ],
      "metadata": {
        "id": "zjjcoEONXf23"
      }
    },
    {
      "cell_type": "code",
      "source": [
        "#Random numbers added to odd or even list\n",
        "\n",
        "import random\n",
        "\n",
        "randlist = [] #create an empty list\n",
        "evenlist = []\n",
        "oddlist = []\n",
        "\n",
        "for item in range (1,11):\n",
        "  randNum = random.randint(10, 20) #generate a random number\n",
        "  randlist.append(randNum)\n",
        "\n",
        "  if randNum % 2 == 0:\n",
        "    evenlist.append(randNum)\n",
        "    #print(randNum, \"is an even number\")\n",
        "  else:\n",
        "    oddlist.append(randNum)\n",
        "    #print(randNum, \"is an odd number\")\n",
        "\n",
        "print(randlist)\n",
        "print(\"The min number list is\", min(randlist))\n",
        "print(\"The max number list is\", max(randlist))\n",
        "#print(\"The sum number list is\", sum(randlist))\n",
        "#print(\"The total number in the list is\", len(randlist))\n",
        "print(\"The average number in the list is\", sum(randlist)/len(randlist))\n",
        "print(\"The even number list is\", evenlist)\n",
        "print(\"The odd number list is\", oddlist)"
      ],
      "metadata": {
        "id": "ZduCTWusYA1m",
        "colab": {
          "base_uri": "https://localhost:8080/"
        },
        "outputId": "25287165-0c80-4086-dce7-f3e4ce4e91d0"
      },
      "execution_count": 33,
      "outputs": [
        {
          "output_type": "stream",
          "name": "stdout",
          "text": [
            "[15, 11, 16, 19, 15, 19, 10, 12, 12, 20]\n",
            "The min number list is 10\n",
            "The max number list is 20\n",
            "The average number in the list is 14.9\n",
            "The even number list is [16, 10, 12, 12, 20]\n",
            "The odd number list is [15, 11, 19, 15, 19]\n"
          ]
        }
      ]
    }
  ]
}