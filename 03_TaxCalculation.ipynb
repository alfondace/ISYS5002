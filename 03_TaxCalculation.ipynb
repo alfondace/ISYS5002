{
  "nbformat": 4,
  "nbformat_minor": 0,
  "metadata": {
    "colab": {
      "name": "03_TaxCalculation.ipynb",
      "provenance": [],
      "collapsed_sections": [],
      "include_colab_link": true
    },
    "kernelspec": {
      "name": "python3",
      "display_name": "Python 3"
    },
    "language_info": {
      "name": "python"
    }
  },
  "cells": [
    {
      "cell_type": "markdown",
      "metadata": {
        "id": "view-in-github",
        "colab_type": "text"
      },
      "source": [
        "<a href=\"https://colab.research.google.com/github/alfondace/ISYS5002/blob/main/03_TaxCalculation.ipynb\" target=\"_parent\"><img src=\"https://colab.research.google.com/assets/colab-badge.svg\" alt=\"Open In Colab\"/></a>"
      ]
    },
    {
      "cell_type": "markdown",
      "metadata": {
        "id": "bVMwNyExqHgH"
      },
      "source": [
        "# Tax Calculation\n",
        "\n",
        "Write a program the prompts the user for their income and calculates the \n",
        "tax payable based on the Australian Tax Office [Resident tax rates 2021–22\n",
        "Taxable income](https://www.ato.gov.au/rates/individual-income-tax-rates/)\n",
        "\n",
        "Income            | Tax on this income \n",
        "------------------|----------------------\n",
        "0 – \\$18,200       | Nil\n",
        "\\$18,201 – \\$45,000 | 19 cents for each \\$1 over \\$18,200\n",
        "\\$45,001 – \\$120,000 | \\$5,092 plus 32.5 cents for each \\$1 over \\$45,000\n",
        "\\$120,001 – \\$180,000 |  \\$29,467 plus 37 cents for each \\$1 over \\$120,000\n",
        "\\$180,001 and over | \\$51,667 plus 45 cents for each \\$1 over \\$180,000\n",
        "\n",
        "## Task 0 - Import notebook to GitHub\n",
        "\n",
        "First, import the notebook into Colab and save an initial copy to GitHub."
      ]
    },
    {
      "cell_type": "markdown",
      "source": [
        "# Task 1: Analyse the requirement and Design a solution\n",
        "\n",
        "Following the 6-steps problem solving process, when you analyse the requiremnts and design the solution, you will end up with an algorithm/pseudocode \n",
        "\n",
        "1. State the problem clearly\n",
        "2. Describe the input and output information\n",
        "3. Work the problem by hand\n",
        "4. Develop an algorithm / pseudocode\n",
        "\n",
        "\n",
        "\n",
        "\n"
      ],
      "metadata": {
        "id": "HgnNYcBrEOKa"
      }
    },
    {
      "cell_type": "markdown",
      "source": [
        "\n",
        "\n",
        "```\n",
        "Input: Income & Tax Income\n",
        "\n",
        "Processing:\n",
        "If income less than 18200, then no tax applied\n",
        "If income between 18201 and 45000, then (income - 18200)*0.19\n",
        "If income between 45001 and 120000, then ((income - 45000)*0.325) + 5092\n",
        "If income between 120001 and 180000, then ((income - 120000)*0.37) + 29467\n",
        "\n",
        "Output: Output tax payable\n",
        "```\n",
        "\n",
        "Example\n",
        "\n",
        "    if income 18200 = tax 0\n",
        "    if income 19000 = tax 150.0\n",
        "    if income 50000 = tax 6717\n",
        "\n",
        "    Income = $19000\n",
        "    Tax Income = $19000 - $18200\n",
        "    Total Tax Paid = 800 x 19%\n",
        "\n",
        "Manual calculation\n",
        "\n",
        "    (19000 - 18200)*0.19 = $150"
      ],
      "metadata": {
        "id": "OZijiHhdHSxd"
      }
    },
    {
      "cell_type": "code",
      "execution_count": null,
      "metadata": {
        "id": "ZeyJ4l2iDOSo"
      },
      "outputs": [],
      "source": [
        ""
      ]
    },
    {
      "cell_type": "markdown",
      "source": [
        "# Task 2: Step 5 - Convert the pseudocode to Python Code"
      ],
      "metadata": {
        "id": "Gqexk_N7F0mb"
      }
    },
    {
      "cell_type": "code",
      "source": [
        "# Compute the total tax paid. \n",
        "\n",
        "# Get the income amount\n",
        "Income = float(input ('Please enter the yearly income: '))\n",
        "\n",
        "# Tax Payable\n",
        "if Income < 18200: Tax_Payable = 0\n",
        "elif 18200 < Income <= 45000: Tax_Payable = (Income - 18200)*0.19\n",
        "elif 45000 < Income <= 120000: Tax_Payable = ((Income - 45000)*0.325)+5092\n",
        "elif 120000 < Income <= 180000: Tax_Payable = ((Income - 120000)*0.37)+29467\n",
        "elif Income > 180000: Tax_Payable = ((Income - 180000)*0.45)+51667\n",
        "# Display The Total Tax Payable\n",
        "print ('The tax payable is: $', format(Tax_Payable, '.2f'), sep=\"\")"
      ],
      "metadata": {
        "id": "kuwq-dEPF6Xi",
        "colab": {
          "base_uri": "https://localhost:8080/"
        },
        "outputId": "cd847064-b15d-4bb8-9801-f23897e8756e"
      },
      "execution_count": null,
      "outputs": [
        {
          "output_type": "stream",
          "name": "stdout",
          "text": [
            "Please enter the yearly income: 10000\n",
            "The tax payable is: $0.00\n"
          ]
        }
      ]
    },
    {
      "cell_type": "code",
      "source": [
        "Income = int(input (\"Please enter the yearly income: \"))\n",
        "print(\"the income is\", Income)\n",
        "# Tax Payable\n",
        "if Income <= 18200:\n",
        "  Tax_Payable = 0\n",
        "elif Income > 18200 and Income <= 45000:\n",
        "  Tax_Payable = (Income - 18200)*0.19\n",
        "elif 45000 < Income <= 120000:\n",
        "  Tax_Payable = ((Income - 45000)*0.325)+5092\n",
        "elif 120000 < Income <= 180000:\n",
        "  Tax_Payable = ((Income - 120000)*0.37)+29467\n",
        "elif Income > 180000:\n",
        "  Tax_Payable = ((Income - 180000)*0.45)+51667\n",
        "\n",
        "print(\"The tax payable is: $\", Tax_Payable, sep='')"
      ],
      "metadata": {
        "id": "scGeO2kfHRgd",
        "colab": {
          "base_uri": "https://localhost:8080/"
        },
        "outputId": "3d0f1bc6-2d93-450f-f4c6-828148c40c97"
      },
      "execution_count": null,
      "outputs": [
        {
          "output_type": "stream",
          "name": "stdout",
          "text": [
            "Please enter the yearly income: 50000\n",
            "the income is 50000\n",
            "The tax payable is: $6717.0\n"
          ]
        }
      ]
    },
    {
      "cell_type": "markdown",
      "source": [
        "# Task 3: Step 6 - Test solution with a variety of data"
      ],
      "metadata": {
        "id": "tSe9XLLuF632"
      }
    },
    {
      "cell_type": "code",
      "source": [
        ""
      ],
      "metadata": {
        "id": "3SOY4Z1RHQ-R"
      },
      "execution_count": null,
      "outputs": []
    },
    {
      "cell_type": "markdown",
      "source": [
        "# Task 4: Homework submission\n",
        "\n",
        "Write a program to print out a payslip for hourly paid employees. <br>\n",
        "Refer to last week's Gross Pay work.\n",
        "\n",
        "[What has to be on a pay slip?](https://www.fairwork.gov.au/pay-and-wages/paying-wages/pay-slips#what-has-to-be-on-a-pay-slip)\n",
        "\n",
        "[Resident tax rates 2022–23](https://www.ato.gov.au/rates/individual-income-tax-rates/)"
      ],
      "metadata": {
        "id": "FGccPDhDGHgF"
      }
    },
    {
      "cell_type": "code",
      "source": [
        ""
      ],
      "metadata": {
        "id": "kvRrkiXMHLfQ"
      },
      "execution_count": null,
      "outputs": []
    }
  ]
}