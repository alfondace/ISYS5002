{
  "nbformat": 4,
  "nbformat_minor": 0,
  "metadata": {
    "colab": {
      "name": "04_Functions_tax_payable.ipynb",
      "provenance": [],
      "collapsed_sections": [],
      "include_colab_link": true
    },
    "kernelspec": {
      "name": "python3",
      "display_name": "Python 3"
    },
    "language_info": {
      "name": "python"
    }
  },
  "cells": [
    {
      "cell_type": "markdown",
      "metadata": {
        "id": "view-in-github",
        "colab_type": "text"
      },
      "source": [
        "<a href=\"https://colab.research.google.com/github/alfondace/ISYS5002/blob/main/04_Functions_tax_payable.ipynb\" target=\"_parent\"><img src=\"https://colab.research.google.com/assets/colab-badge.svg\" alt=\"Open In Colab\"/></a>"
      ]
    },
    {
      "cell_type": "markdown",
      "metadata": {
        "id": "bVMwNyExqHgH"
      },
      "source": [
        "# Tax Calculation\n",
        "\n",
        "Write a program the prompts the user for their income and calculates the \n",
        "tax payable based on the Australian Tax Office [Resident tax rates 2021–22\n",
        "Taxable income](https://www.ato.gov.au/rates/individual-income-tax-rates/)\n",
        "\n",
        "Income            | Tax on this income \n",
        "------------------|----------------------\n",
        "0 – \\$18,200       | Nil\n",
        "\\$18,201 – \\$45,000 | 19 cents for each \\$1 over \\$18,200\n",
        "\\$45,001 – \\$120,000 | \\$5,092 plus 32.5 cents for each \\$1 over \\$45,000\n",
        "\\$120,001 – \\$180,000 |  \\$29,467 plus 37 cents for each \\$1 over \\$120,000\n",
        "\\$180,001 and over | \\$51,667 plus 45 cents for each \\$1 over \\$180,000\n",
        "\n",
        "## Task 0 - Import notebook to GitHub\n",
        "\n",
        "First, import the notebook into Colab and save an initial copy to GitHub."
      ]
    },
    {
      "cell_type": "markdown",
      "metadata": {
        "id": "GQPi2a6VI0rf"
      },
      "source": [
        "## Task 1 - Complete Tax Payable Function\n",
        "\n",
        "When you apply the 5-step process you will end up with an algorithm. Here \n",
        "is a very simple algorithm to solve our simple program.  We often call this\n",
        "a high level overview of the problem.  We now know enough about computers and \n",
        "programming now to understand that these high level steps will need to be split \n",
        "into small steps that a computer can implement.  but these high level steps make\n",
        "good candidates for functions.  \n",
        "\n",
        "For our tax calculation problem, if we had functions to perform the following \n",
        "steps, would this solve our problem?  If not what steps would you add?\n",
        "\n",
        "1. Get the income\n",
        "2. Calculate the tax payable\n",
        "3. Output tax payable"
      ]
    },
    {
      "cell_type": "code",
      "source": [
        "# prompt user for income input and display the value\n",
        "income = int(input(\"Enter the yearly income: \"))\n",
        "print(\"The income is\", income)\n",
        "\n",
        "# based on the income, determines the correct income bracket and calculates the tax payable amount\n",
        "if income <= 18200:\n",
        "  tax_payable = 0\n",
        "elif 18201 <= income <= 45000:\n",
        "  tax_payable = (income - 18200) *0.19\n",
        "elif 45000 < income <= 120000:\n",
        "  tax_payable = ((income - 45000) *0.325) + 5092\n",
        "elif 120001 <= income <= 180000:\n",
        "  tax_payable = ((income - 120000) *0.37) + 29467\n",
        "else:\n",
        "  tax_payable = ((income - 120000) *0.45) + 51667\n",
        "\n",
        "\n",
        "# Output the calculated tax payable amount\n",
        "print(\"The tax payable is$\", tax_payable)\n"
      ],
      "metadata": {
        "id": "kuwq-dEPF6Xi",
        "colab": {
          "base_uri": "https://localhost:8080/"
        },
        "outputId": "e8c9d77e-1122-4561-ceed-33621c841b6e"
      },
      "execution_count": 1,
      "outputs": [
        {
          "output_type": "stream",
          "name": "stdout",
          "text": [
            "Enter the yearly income: 50000\n",
            "The income is 50000\n",
            "The tax payable is$ 6717.0\n"
          ]
        }
      ]
    },
    {
      "cell_type": "markdown",
      "source": [
        "## Implement the tax payable program into functions"
      ],
      "metadata": {
        "id": "-SKzJl568941"
      }
    },
    {
      "cell_type": "code",
      "execution_count": 4,
      "metadata": {
        "id": "AuzMU2B7J-q4"
      },
      "outputs": [],
      "source": [
        "def get_income():\n",
        "  '''\n",
        "  This function will prompt the user for the income\n",
        "  and return the value\n",
        "  '''\n",
        "  income = int(input(\"What is your income for the year? \"))\n",
        "  print(\"Your income is \" ,income)\n",
        "  return income\n",
        "\n"
      ]
    },
    {
      "cell_type": "markdown",
      "metadata": {
        "id": "AYwArCuRzwRh"
      },
      "source": [
        "## Using the Residents tax rate table, complete the following function"
      ]
    },
    {
      "cell_type": "code",
      "execution_count": 21,
      "metadata": {
        "id": "bIGrqfz_Mbt8"
      },
      "outputs": [],
      "source": [
        "def calculate_tax(income):\n",
        "  if income <= 18200:\n",
        "    tax_payable = 0\n",
        "  elif 18201 < income <= 45000:\n",
        "    tax_payable = 0.19 * (income - 18200)\n",
        "  elif 45000 <= income < 120000:\n",
        "    tax_payable = 5092 + 0.32 * (income - 45000)\n",
        "  elif 120001 <= income <= 180000:\n",
        "    tax_payable = ((income - 120000) *0.37) + 29467\n",
        "  else:\n",
        "    tax_payable = ((income - 120000) *0.45) + 51667\n",
        "    \n",
        "  return tax_payable\n"
      ]
    },
    {
      "cell_type": "markdown",
      "metadata": {
        "id": "BNdsJ9jszwRi"
      },
      "source": [
        "## Task 2 - Complete the program"
      ]
    },
    {
      "cell_type": "code",
      "execution_count": 15,
      "metadata": {
        "id": "pd8m2I1uMuAu",
        "colab": {
          "base_uri": "https://localhost:8080/"
        },
        "outputId": "86b73b6c-cb77-4731-e8df-885523854fe4"
      },
      "outputs": [
        {
          "output_type": "stream",
          "name": "stdout",
          "text": [
            "What is your income for the year? 100000\n",
            "Your income is  100000\n",
            "Your tax payable is 22692.0\n"
          ]
        }
      ],
      "source": [
        "# 'Main line'\n",
        "\n",
        "# Step 1 - Get the income\n",
        "\n",
        "# Step 2 - Calculate the tax\n",
        "\n",
        "# Step 3 - Output tax payable\n",
        "\n",
        "print(\"Your tax payable is\", calculate_tax(get_income()))"
      ]
    },
    {
      "cell_type": "markdown",
      "metadata": {
        "id": "TDehZWCyzwRi"
      },
      "source": [
        "## Task 3 (Homework) - Payslip\n",
        "\n",
        "How could you use these functions with the payslip notebook?\n"
      ]
    },
    {
      "cell_type": "code",
      "source": [
        "def get_info():\n",
        "  Employee_Name = input(\"What is the employee name \")\n",
        "  Hour_Work = int(input ('Enter hours worked: '))\n",
        "  Hour_Pay = float(input ('Enter hourly pay: '))\n",
        "\n",
        "  income = Hour_Work * Hour_Pay\n",
        "  print(\"Your income is \" ,income)\n",
        "  return income\n",
        "\n",
        "def calculate_tax(income):\n",
        "  if income <= 18200:\n",
        "    tax_payable = 0\n",
        "  elif 18201 < income <= 45000:\n",
        "    tax_payable = 0.19 * (income - 18200)\n",
        "  elif 45000 <= income < 120000:\n",
        "    tax_payable = 5092 + 0.32 * (income - 45000)\n",
        "  elif 120001 <= income <= 180000:\n",
        "    tax_payable = ((income - 120000) *0.37) + 29467\n",
        "  else:\n",
        "    tax_payable = ((income - 120000) *0.45) + 51667\n",
        "\n",
        "\n",
        "  return tax_payable\n"
      ],
      "metadata": {
        "id": "ALSfiYRTpLpA"
      },
      "execution_count": 22,
      "outputs": []
    },
    {
      "cell_type": "code",
      "source": [
        "print(\"Your tax payable os $\", calculate_tax(get_info()), sep=\"\")"
      ],
      "metadata": {
        "colab": {
          "base_uri": "https://localhost:8080/"
        },
        "id": "g8ORtYppOt1J",
        "outputId": "94789aff-8c83-4bd1-b802-7060a2fd75f7"
      },
      "execution_count": 23,
      "outputs": [
        {
          "output_type": "stream",
          "name": "stdout",
          "text": [
            "What is the employee name A\n",
            "Enter hours worked: 2080\n",
            "Enter hourly pay: 200\n",
            "Your income is  416000.0\n",
            "Your tax payable os $184867.0\n"
          ]
        }
      ]
    }
  ]
}