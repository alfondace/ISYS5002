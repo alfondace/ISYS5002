{
  "nbformat": 4,
  "nbformat_minor": 0,
  "metadata": {
    "colab": {
      "provenance": [],
      "include_colab_link": true
    },
    "kernelspec": {
      "name": "python3",
      "display_name": "Python 3"
    },
    "language_info": {
      "name": "python"
    }
  },
  "cells": [
    {
      "cell_type": "markdown",
      "metadata": {
        "id": "view-in-github",
        "colab_type": "text"
      },
      "source": [
        "<a href=\"https://colab.research.google.com/github/alfondace/ISYS5002/blob/main/FINAL_Calculator_Program_Production.ipynb\" target=\"_parent\"><img src=\"https://colab.research.google.com/assets/colab-badge.svg\" alt=\"Open In Colab\"/></a>"
      ]
    },
    {
      "cell_type": "markdown",
      "source": [
        "# Simple Calculator\n",
        "\n",
        "This notebook prompts the user to select a mathematical operation and input two numbers. The program will then operate on the two numbers and output the result. The user will be able to continue performing operations on numbers or exit the program. The arithmetic operations include:\n",
        "\n",
        "addition, subtraction, multiplication, and division."
      ],
      "metadata": {
        "id": "8D5d05fY8wir"
      }
    },
    {
      "cell_type": "markdown",
      "source": [
        "Requirements"
      ],
      "metadata": {
        "id": "zbhmMQCF0iDT"
      }
    },
    {
      "cell_type": "code",
      "source": [
        "!pip -q install install PyInputPlus"
      ],
      "metadata": {
        "id": "6QP5bV7_0eVd"
      },
      "execution_count": null,
      "outputs": []
    },
    {
      "cell_type": "markdown",
      "source": [
        "# Modules\n",
        "\n",
        "> *Note: The order of the following cells matter.*"
      ],
      "metadata": {
        "id": "QSdkJd8C86MM"
      }
    },
    {
      "cell_type": "code",
      "source": [
        "# Requirements\n",
        "!pip -q install pyinputplus"
      ],
      "metadata": {
        "id": "d2a3iGiF1yv8"
      },
      "execution_count": null,
      "outputs": []
    },
    {
      "cell_type": "code",
      "source": [
        "# Module Utilities\n",
        "def isNumber(x):\n",
        "  '''\n",
        "  Returns whether 'x' is a Python number type\n",
        "\n",
        "  >>> isNumber(3.2)\n",
        "  True\n",
        "  >>> isNumber('Twenty')\n",
        "  False\n",
        "   \n",
        "  '''\n",
        "  return isinstance(x,(int,float))"
      ],
      "metadata": {
        "id": "7heR0nSh1197"
      },
      "execution_count": null,
      "outputs": []
    },
    {
      "cell_type": "code",
      "source": [
        "# Module Mathematical Operations\n",
        "def add(num1, num2):\n",
        "  '''\n",
        "  Returns the sum of num1 and num2 otherwise UNK\n",
        "\n",
        "  >>> add(2,3)\n",
        "  5\n",
        "  >>> add('2',3)\n",
        "  'UNK'\n",
        "  \n",
        "  '''\n",
        "  result = \"UNK\"\n",
        "  if isNumber(num1) and isNumber(num2):\n",
        "    result = num1 + num2\n",
        "  return result\n",
        "\n",
        "def subtract(num1, num2):\n",
        "  '''\n",
        "  Returns the subtraction of num2 from num1 otherwise UNK\n",
        "\n",
        "  >>> subtract(2,3)\n",
        "  -1\n",
        "  >>> subtract('2',3)\n",
        "  'UNK'\n",
        "  \n",
        "  '''\n",
        "  result = \"UNK\"\n",
        "  if isNumber(num1) and isNumber(num2):\n",
        "    result = round((num1 - num2),6)\n",
        "  return result\n",
        "\n",
        "def multiply(num1, num2):\n",
        "  '''\n",
        "  Returns the multiplication of num1 and num2 otherwise UNK\n",
        "\n",
        "  >>> multiply(2,3)\n",
        "  6\n",
        "  >>> multiply('2',3)\n",
        "  'UNK'\n",
        "  \n",
        "  '''\n",
        "  result = \"UNK\"\n",
        "  if isNumber(num1) and isNumber(num2):\n",
        "    result = round((num1 * num2),6)\n",
        "  return result\n",
        "\n",
        "def divide(num1, num2):\n",
        "  '''\n",
        "  Returns the division num1 by num2 otherwise UNK\n",
        "\n",
        "  >>> divide(2,3)\n",
        "  0.666667\n",
        "  >>> divide('2',3)\n",
        "  'UNK'\n",
        "  \n",
        "  '''\n",
        "  result = \"UNK\"\n",
        "  if isNumber(num1) and isNumber(num2) and num2 != 0:\n",
        "    result = round((num1 / num2),6)\n",
        "  return result\n",
        "\n",
        "def do_math(operator, num1, num2):\n",
        "  '''\n",
        "  Return the result of 'num1 operator num2'\n",
        "\n",
        "  >>> do_math('+',1,2)\n",
        "  3\n",
        "  >>> do_math('-',1,2)\n",
        "  -1\n",
        "  >>> do_math('/',1,0)\n",
        "  'UNK'\n",
        "\n",
        "  '''\n",
        "  if operator == '+':\n",
        "    return add(num1,num2)\n",
        "  elif operator == '-':\n",
        "    return subtract(num1,num2)\n",
        "  elif operator == '*':\n",
        "    return multiply(num1,num2)\n",
        "  elif operator == '/':\n",
        "    return divide(num1,num2)"
      ],
      "metadata": {
        "id": "a-Gbgz8b12hf"
      },
      "execution_count": null,
      "outputs": []
    },
    {
      "cell_type": "code",
      "source": [
        "# Module User Interface\n",
        "import pyinputplus as pyip\n",
        "\n",
        "def display_menu():\n",
        "  '''\n",
        "  Display the menu and returns the users choice\n",
        "  '''\n",
        "  choices = ['+','-','*','/']\n",
        "  prompt = \"What operation you would like to complete? \\n\"\n",
        "  operator = pyip.inputMenu(choices, prompt=prompt)\n",
        "  return operator\n",
        "\n",
        "def ask_to_continue():\n",
        "  '''\n",
        "  Ask if want to continue, return either 'yes' or 'no'\n",
        "  '''\n",
        "  return pyip.inputYesNo(prompt=\"Do you want to continue? \")"
      ],
      "metadata": {
        "id": "J_7Be1xN18sX"
      },
      "execution_count": null,
      "outputs": []
    },
    {
      "cell_type": "markdown",
      "source": [
        "# Main Program"
      ],
      "metadata": {
        "id": "wo9hd-h587fF"
      }
    },
    {
      "cell_type": "code",
      "source": [
        "# Module Main Program\n",
        "import pyinputplus as pyip\n",
        "\n",
        "print(\"Welcome to Simple Calculator\")\n",
        "while True:\n",
        "  operation = display_menu()\n",
        "  first_number = pyip.inputNum(\"Please enter the first number \")\n",
        "  second_number = pyip.inputNum(\"Please enter the second number \")\n",
        "  result = do_math(operation, first_number, second_number)\n",
        "  print('{} {} {} = {}'.format(first_number, operation, second_number, result))\n",
        "  if ask_to_continue() == 'no':\n",
        "    print(\"Thank you for using Simple Calculator\")\n",
        "    break"
      ],
      "metadata": {
        "id": "QQ-PSDop0sxE"
      },
      "execution_count": null,
      "outputs": []
    }
  ]
}