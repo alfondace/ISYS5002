{
  "nbformat": 4,
  "nbformat_minor": 0,
  "metadata": {
    "colab": {
      "provenance": [],
      "collapsed_sections": [],
      "include_colab_link": true
    },
    "kernelspec": {
      "name": "python3",
      "display_name": "Python 3"
    },
    "language_info": {
      "name": "python"
    }
  },
  "cells": [
    {
      "cell_type": "markdown",
      "metadata": {
        "id": "view-in-github",
        "colab_type": "text"
      },
      "source": [
        "<a href=\"https://colab.research.google.com/github/alfondace/ISYS5002/blob/main/FINAL_The_Calculator_Program_Design.ipynb\" target=\"_parent\"><img src=\"https://colab.research.google.com/assets/colab-badge.svg\" alt=\"Open In Colab\"/></a>"
      ]
    },
    {
      "cell_type": "markdown",
      "source": [
        "#The Calculator\n",
        "This notebook is an exercise in programming to help hone your skills through practice and repetition.\n",
        "\n",
        "## What are *our* Best Practices\n",
        "\n",
        "Here are the best practices we have been applying throughout the course.\n",
        "\n",
        "1. Use a code repository (*GitHub, small frequent commits*)\n",
        "2. Follow style guidelines (*PEP8*)\n",
        "3. Correct broken code immediately (*exception handling, input validation, testing*)\n",
        "4. Use the PyPI instead of doing it yourself (*search and import module*)\n",
        "5. Use the Right Data Types and Structures (*int, float, list, etc. *)\n",
        "6. Write Readable Code (*meaningful names and comments*)\n",
        "7. Create readable documentation (*Docstrings*)\n",
        "8. Use Virtual Environments (*Google VM instance, Binder*)\n",
        "9. Avoid anti-patterns (*be specific imports, exceptions etc. *)\n",
        "10. Follow *Zen of Python* (try *`import this`*)"
      ],
      "metadata": {
        "id": "in2iZP7A1rNP"
      }
    },
    {
      "cell_type": "markdown",
      "source": [
        "## The Challenge - Simple Calculator\n",
        "\n",
        "Write a program to prompt the user to select a mathematical operation and input two numbers. The program will then operate on the two numbers and output the result. The user will be able to continue performing operations on numbers or exit the program. The arithmetic operations include: \n",
        "* addition, \n",
        "* subtraction, \n",
        "* multiplication, and \n",
        "* division. \n",
        "\n",
        "Let's review the *Zen of Python*.  Run the following code cell"
      ],
      "metadata": {
        "id": "6McFoWcj2AUu"
      }
    },
    {
      "cell_type": "code",
      "execution_count": null,
      "metadata": {
        "id": "H_kOZrGM1e38",
        "colab": {
          "base_uri": "https://localhost:8080/"
        },
        "outputId": "7a55271d-4692-40f0-c345-deb0861b16ad"
      },
      "outputs": [
        {
          "output_type": "stream",
          "name": "stdout",
          "text": [
            "The Zen of Python, by Tim Peters\n",
            "\n",
            "Beautiful is better than ugly.\n",
            "Explicit is better than implicit.\n",
            "Simple is better than complex.\n",
            "Complex is better than complicated.\n",
            "Flat is better than nested.\n",
            "Sparse is better than dense.\n",
            "Readability counts.\n",
            "Special cases aren't special enough to break the rules.\n",
            "Although practicality beats purity.\n",
            "Errors should never pass silently.\n",
            "Unless explicitly silenced.\n",
            "In the face of ambiguity, refuse the temptation to guess.\n",
            "There should be one-- and preferably only one --obvious way to do it.\n",
            "Although that way may not be obvious at first unless you're Dutch.\n",
            "Now is better than never.\n",
            "Although never is often better than *right* now.\n",
            "If the implementation is hard to explain, it's a bad idea.\n",
            "If the implementation is easy to explain, it may be a good idea.\n",
            "Namespaces are one honking great idea -- let's do more of those!\n"
          ]
        }
      ],
      "source": [
        "import this"
      ]
    },
    {
      "cell_type": "markdown",
      "source": [
        "# Step 0 - Create code repository\n",
        "\n",
        "All projects need a project folder. Use the code repository to store the project. Go to GitHub, create a new repository with a meaningful name, like calculator, and add a README. Adding a readme file will initialise the repository. Initialising is *critical* and will make it easy to add files later.\n",
        "\n",
        "This notebook assumes we use Google Colab as the Integrated Development Environment (IDE). For our workflow and easy integration with the IDE, tick the box \"Include a link to Colaboratory\".\n",
        "\n",
        "This notebook will have small and frequent commits (Best Practice #1). You can look at the history of the notebook to view the commits."
      ],
      "metadata": {
        "id": "JqQiweAm3ENv"
      }
    },
    {
      "cell_type": "markdown",
      "source": [
        "# Step 1 - State the problem clearly\n",
        "\n",
        "We are following 5 step methodology:\n",
        "1. State the problem clearly\n",
        "2. Describe the input and output information\n",
        "3. Work the problem by hand\n",
        "4. Develop an algorithm (and convert it to python) \n",
        "5. Test solution with a variety of data\n",
        "\n",
        "\n",
        "## The Approach/Design"
      ],
      "metadata": {
        "id": "Ogxm2XmL3ulZ"
      }
    },
    {
      "cell_type": "markdown",
      "source": [
        "A calculator is a portable electronic device used to perform calculations. We have probably all used a calculator. Our program is to perform basic calculations on user input. The program will handle user input, math operators, variables, conditional statements, functions, and output operations while building the program.\n",
        "\n",
        "*   The user can choose the desired operation from a simple menu\n",
        "*   The user can input two numbers\n",
        "*   The program will use branching to select the particular operation to apply to the input numbers\n",
        "*   The program will use branching to select the particular operation to apply to the input numbers\n",
        "\n",
        "\n"
      ],
      "metadata": {
        "id": "xnqvtFh2Rsh0"
      }
    },
    {
      "cell_type": "markdown",
      "source": [
        "#Step 2 - Describe inputs and outputs"
      ],
      "metadata": {
        "id": "Oy2qLtkI33Wi"
      }
    },
    {
      "cell_type": "markdown",
      "source": [
        "               +-----------+\n",
        "               |           |\n",
        "    INPUT ---> | Algorithm | ---> OUTPUT\n",
        "               |           |\n",
        "               ------------+"
      ],
      "metadata": {
        "id": "G2aS9PZYU2w-"
      }
    },
    {
      "cell_type": "markdown",
      "source": [
        "Inputs:\n",
        "+ Operation symbol/code representing either add, subtract, multiply or divide.\n",
        "+ First number. It can be a real number, positive or negative.\n",
        "+ Second number. It can be a real number, positive or negative.\n",
        "+ Yes/No. Yes, to perform another calculation. No, to exit the program"
      ],
      "metadata": {
        "id": "M5KExXGNWHXm"
      }
    },
    {
      "cell_type": "markdown",
      "source": [
        "Outputs:\n",
        "+ Menu to display available operations\n",
        "+ Result of operating on the first and second numbers.\n",
        "+ Prompt to perform another operation to continue or exit the program."
      ],
      "metadata": {
        "id": "MXTL3ZeqWT8A"
      }
    },
    {
      "cell_type": "markdown",
      "source": [
        "# Step 3 - Work the problem by hand\n",
        "\n",
        "This step is to gain a deeper understanding of the problem to make it easier to express a solution. The operations for our calculator are simple, so we will only include a few examples for each function. These worked examples also become our initial test cases (see Step 5 Test with a variety of data).\n",
        "\n",
        "We typically only focus on valid inputs, but you can work through those examples here if you think of potential invalid inputs. Otherwise, make a note and perhaps your expected outcome for use in Step 5."
      ],
      "metadata": {
        "id": "V1eEfzun4ErK"
      }
    },
    {
      "cell_type": "markdown",
      "source": [
        "Operation add()\n",
        "\n",
        "Example | Expected \n",
        "-|-\n",
        "0 + 0\t| 0\n",
        "1 + 1\t| 2\n",
        "4 + 2.3 |\t6.3\n",
        "3.2 + 1 |\t4.2\n",
        "-1.7 + -1.3 |\t-3"
      ],
      "metadata": {
        "id": "sUDxZp87WjDA"
      }
    },
    {
      "cell_type": "markdown",
      "source": [
        "Operation subtract()\n",
        "\n",
        "Example | Expected \n",
        "-|-\n",
        "0 - 0\t| 0\n",
        "1 - 1\t| 0\n",
        "4 - 2.3\t| 2.3\n",
        "3.2 - 2\t| 1.2\n",
        "-1.7 - -1.3\t| -0.4"
      ],
      "metadata": {
        "id": "JpcuRUKQX0k4"
      }
    },
    {
      "cell_type": "markdown",
      "source": [
        "Operation multiply()\n",
        "\n",
        "Example | Expected \n",
        "-|-\n",
        "0 * 0\t| 0\n",
        "1 * 1\t| 1\n",
        "4 * 2.3\t| 8.3\n",
        "3.2 * 1\t| 3.2\n",
        "-1.7 * -1.3\t| 2.21"
      ],
      "metadata": {
        "id": "dhcBxfZWYsDA"
      }
    },
    {
      "cell_type": "markdown",
      "source": [
        "Operation divide()\n",
        "\n",
        "Example | Expected \n",
        "-|-\n",
        "0 / 0\t| UNK\n",
        "1 / 1\t| 1\n",
        "4 / 2.3\t| 1.739130434\n",
        "3.2 / 1\t| 3.2\n",
        "-1.7 / -1.3\t| 1.307692307"
      ],
      "metadata": {
        "id": "0qsZ75rRZEcc"
      }
    },
    {
      "cell_type": "markdown",
      "source": [
        "# Step 4 - Develop an algorithm (and convert it to python)"
      ],
      "metadata": {
        "id": "J_kOUaGA4Hsa"
      }
    },
    {
      "cell_type": "markdown",
      "source": [
        "You have a good idea of the problem and how you might implement the solution. You could start writing some code, but it is good to write pseudocode. This process can help clarify your ideas, and often these can be used as comments in your code. Depending on the complexity of the problem, your experience, the steps and functions may seem obvious. The important part is to express a potential solution without worrying about the syntax of a programming language."
      ],
      "metadata": {
        "id": "XyK0pLNlZTap"
      }
    },
    {
      "cell_type": "markdown",
      "source": [
        "Here might be the first attempt:\n",
        "\n",
        "    Display\n",
        "      What operation you would like to complete:\n",
        "      + for addition\n",
        "      - for subtraction\n",
        "      * for multiplication\n",
        "      / for division\n",
        "    Get answer from user and store in operation\\\n",
        "    \n",
        "\n",
        "  Prompt the user for a number and store it in first_number\n",
        "  Prompt the user for a number and store it in second_number\n",
        "\n",
        "    if operation equals '+'\n",
        "      then add first_number and second_number\n",
        "\n",
        "    else if operation equals '-'\n",
        "      then subtract first_number from second_number\n",
        "\n",
        "    else if operation equals '*'\n",
        "      then multiply first_number and second_number\n",
        "\n",
        "    else if operation equals '/'\n",
        "      then divide first_number by the second_number\n",
        "\n",
        "There are lots of possible designs. Depending on your experience and understanding for the problem at this stage you could consider input validation and include some pseudocode to check for numbers as input, create functions and modules. But this is a reasonable first design."
      ],
      "metadata": {
        "id": "M0oGijD8ZVLt"
      }
    },
    {
      "cell_type": "markdown",
      "source": [
        "# Final Design\n",
        "\n",
        "**Module: Main Program**\n",
        "\n",
        "**Module:**\n",
        "\n",
        "**Module:**\n",
        "\n"
      ],
      "metadata": {
        "id": "S7oj8cWz4Udi"
      }
    },
    {
      "cell_type": "markdown",
      "source": [
        "There were multiple revisions to get to the final design below. Some design elements (functions, modules etc.) may not be evident until you implement them. What follows are some discussion points that might have triggered a revision to the initial design.\n",
        "\n",
        "What do we mean by the phrase then add first_number and second_number. Is this going a call to a function, or will we simply use the Python built-in addition operator +. Can we do this for all the operation? Will some operations need more code to implement correctly, for example checking for divide by zero?\n",
        "\n",
        "Based on this we might deside to design each operator as a function. This decision is in part because we want to practice different programming constructs and in part because, although not sure, we can think of more complex implementation of the operations and perhaps additional calculator operations that we may want to implement in the future.\n",
        "\n",
        "What about the ability to prompt the user to perform another operation or exit the program. What type of construct would we need here? The phrase perform another sounds like we need to repeat a section of our program. To repeat, we need to consider using a loop.\n",
        "\n",
        "Depending on your experience, you might even begin to think about grouping some of the functions into modules. Or you may identify modules after you start to implement. Modules are probably not needed with our simple program, but designing modules is an excellent skill to practice.\n",
        "\n",
        "For modules, you will try to group related functions. Sometimes the grouping functions are straightforward. Other times it can be challenging. We will discuss more grouping functionality when we learn about classes and objects. We identify some obvious modules, such as the user interface and mathematical operators.\n",
        "\n",
        "If the modules don't seem obvious to you, that is okay. There are many possible designs to solve the problem. As discussed earlier in the semester, the essential thing is that the algorithm or program functions correctly. Remember, there are no right or wrong answers. This exercise is to apply best practices."
      ],
      "metadata": {
        "id": "tpZ1kZ1WbsTW"
      }
    },
    {
      "cell_type": "markdown",
      "source": [
        "MODULE: Main program\n",
        "\n",
        "    let want to continue = True\n",
        "    while want_to_continue\n",
        "      let operation equal return value display_menu\n",
        "      prompt for a number and store it in first_number\n",
        "      prompt for a number and store it in second_number\n",
        "      let result equal return from do_math(operation, first_number, second_number)\n",
        "      display result\n",
        "      let want_to_continue equal return value from ask_to_continue()"
      ],
      "metadata": {
        "id": "PFrG6X9Cb333"
      }
    },
    {
      "cell_type": "markdown",
      "source": [
        "MODULE: User Interface\n",
        "\n",
        "Note: A benefit of having a user interface module is you could switch the module to a graphical user interface without having to modify other modules.\n",
        "\n",
        "    FUNCTION: display_menu\n",
        "\n",
        "    display\n",
        "        \"What operation you would like to complete:\n",
        "        + for addition\n",
        "        - for subtraction\n",
        "        * for multiplication\n",
        "        / for division\"\n",
        "      Get answer\n",
        "      return answer\n",
        "\n",
        "\n",
        "    FUNCTION: ask_to_continue\n",
        "\n",
        "      let result equal False\n",
        "      display \n",
        "        \"Do you want to calculate again? \n",
        "        Please type Y for YES or N for NO.\"\n",
        "      if answer equals 'Y'\n",
        "        let result = True\n",
        "      return result"
      ],
      "metadata": {
        "id": "4F3vov_GcF_K"
      }
    },
    {
      "cell_type": "markdown",
      "source": [
        "MODULE: Mathematical Operations\n",
        "\n",
        "    FUNCTION doMath\n",
        "      Receives: operation, first_number, second_number\n",
        "\n",
        "      if operation equals '+'\n",
        "        result equals return value from add(first_number, second_number)\n",
        "      else if operation equals '-'\n",
        "        result equals return value from subtract(first_number, second_number)\n",
        "      else if operation equals '*'\n",
        "        result equals return value from multiply(first_number, second_number)\n",
        "      else if operation equals '/'\n",
        "        result equals return value from divide(first_number, second_number)\n",
        "\n",
        "\n",
        "    FUNCTION add\n",
        "      Receives number1, number2\n",
        "\n",
        "      result = \"UNK\"\n",
        "      if number1 and number2 are numbers\n",
        "        result = number1 + number2\n",
        "\n",
        "      return result\n",
        "\n",
        "\n",
        "    FUNCTION: subtract \n",
        "      Receives number1, number2\n",
        "\n",
        "      result = \"UNK\"\n",
        "      if number1 and number2 are numbers\n",
        "        result = number1 - number2\n",
        "      return result\n",
        "\n",
        "\n",
        "    FUNCTION multiply \n",
        "      Receives: number1, number2\n",
        "\n",
        "      result = \"UNK\"\n",
        "      if number1 and number2 are numbers\n",
        "        result = number1 * number2\n",
        "      return result\n",
        "\n",
        "\n",
        "    FUNCTION: divide. \n",
        "      Receives: number1, number2\n",
        "\n",
        "      result = \"UNK\"\n",
        "      if number2 and number2 are numbers and number2 not equal zero\n",
        "        result = number1 / number2\n",
        "      return result"
      ],
      "metadata": {
        "id": "NDHplhrpcWBq"
      }
    },
    {
      "cell_type": "markdown",
      "source": [
        "MODULE: Utilities\n",
        "\n",
        "    FUNCTION isNumber \n",
        "      Receives: number\n",
        "\n",
        "      return (number is and integer or real number)"
      ],
      "metadata": {
        "id": "jzThhK1ucvJz"
      }
    },
    {
      "cell_type": "markdown",
      "source": [
        "# Convert to Python\n",
        "\n",
        "This notebook aims to help hone your skills. Recall there are no right or wrong answers. The benefit comes from the process. I am going to split the converting the design into three notebooks.\n",
        "\n",
        "The first will implement the initial design. Although not as robust implementation, you will still get to practice sequence, selection, repetition, input, output, assignment and perform simple mathematical operations.\n",
        "\n",
        "The second will implement the final design and, rather than have a separate file for each module, will combine related functions in one code cell. In addition to the practising sequence, selection, repetition, input, output, assignment and simple mathematical operations, you will get a chance to practice creating and calling functions.\n",
        "\n",
        "The third notebook will split each module into a file. This process will allow you to practise importing local modules into the main notebook. This method will present some challenges with Google Colab's limitation of editing one notebook per virtual machine instance."
      ],
      "metadata": {
        "id": "9VFIwWNy4z9j"
      }
    },
    {
      "cell_type": "markdown",
      "source": [
        "**Relationship between Design & Implementation**\n",
        "\n",
        "We all think differently, and our methodology is flexible enough to accommodate different approaches to getting a working program. Although I have suggested three designs, it is not as simple as this. Often we start with the initial basic design, then as we implement and test, it evolves into a solution with functions. Then after more thinking and understanding, we may group similar tasks into modules ending up with something very similar to the highly modular final design.\n",
        "\n",
        "So try not to think of the three upcoming notebooks as independent designs rather than iterations from a good design, to a better design, and to an even better design. The design thinking has been applied at different stages as we understand the problem deeper while implementing and testing our code."
      ],
      "metadata": {
        "id": "zvBXn-orc__b"
      }
    },
    {
      "cell_type": "markdown",
      "source": [
        "# Step 5 - Test solution with a variety of data\n",
        "\n",
        "This step gives us a chance to think about what should happen with different inputs. There are three common situations to think about\n",
        "\n",
        "* happy path cases are scenarios that feature no exceptional or error conditions. These cases are the path most users will take.\n",
        "* unhappy path are the obvious exceptional or error conditions in the input scenarios.\n",
        "* edge cases are at the extreme of operating parameters. For example, what happens if we try to add huge or tiny numbers? These cases exist at the extreme of the operating parameters. These are also very rare.\n",
        "\n",
        "The categories happy, unhappy and edge case help us think about the different inputs. From a design perspective, aim to get your program working for the happy path. Then focus on the unhappy and, finally, the edge cases. In some instances, you may not be able to implement a solution for the edge case. If this happens, then make sure to document this in your code. At the very least, it shows that you are aware of the issue. Maybe in the future, you might discover a solution.\n",
        "\n",
        "We can use the worked examples from an earlier stage as a starting point. If we hadn't thought about dividing by zero, we might discover it in this step. Here are some questions that may help identify more test cases:\n",
        "\n",
        "* Can the program handle the combination of positive and negative numbers?\n",
        "* Can the program handle integers, fractions, and actual numbers?\n",
        "* Does the order of arguments matter in the implementation 1 + 3 the same as 3 +1?\n",
        "* What happens if you type in words, say 'One' instead of the number 1?\n",
        "* What about very very large numbers?\n",
        "* What about very very small numbers?\n",
        "\n",
        "Here is an initial test table. The following table is not an exhaustive test and considers a small number of happy and unhappy test cases but is sufficient to demonstrate the concept. Edge cases have not been considered:\n",
        "\n",
        "Action | Example | Expected \n",
        "-|- |-\n",
        "menu |\t[+,-,*,/]\t| Prompt numbers for numbers\n",
        "| Not [+,-,*,/]\t| Disply error message, show menu\n",
        "calculte |\tY |\tDisplay menu\n",
        "| N |\tExit program\n",
        "|Not | Y or N\tRedisplay prompt\n",
        "add | 0 + 0\t| 0\n",
        "|1 + 1\t| 2\n",
        "|4 + 2.3 |\t6.3\n",
        "|\t-1.7, 1.3 |\t0.4\n",
        "|'12',2 |\tUNK\n",
        "subtract|\t0, 0|\t0\n",
        "|1,1|\t0\n",
        "|4,2.3|\t1.7\n",
        "|-1.7, 1.3|\t-3.\n",
        "|'12',2|\tUNK\n",
        "multiply|\t0, 0|\t0\n",
        "|1,1\t|1\n",
        "|4,2.3\t|9.2\n",
        "|-1.7, 1.3\t|-2.21\n",
        "|'12',2\t|UNK\n",
        "divide|\t0, 0|\tUNK\n",
        "|1,1\t|1\n",
        "|4,2.3\t|1.739130434\n",
        "|-1.7, 1.3\t|-2.21\n",
        "|'12',2\t|UNK\n",
        "\n",
        "\n",
        "We will perform testing as we convert the design to Python. We will use a combination of the assert statement and doctest in each of the three notebooks discussed above.\n",
        "\n"
      ],
      "metadata": {
        "id": "QyOxJjqk4m9z"
      }
    }
  ]
}