{
  "nbformat": 4,
  "nbformat_minor": 0,
  "metadata": {
    "colab": {
      "provenance": [],
      "collapsed_sections": [],
      "include_colab_link": true
    },
    "kernelspec": {
      "name": "python3",
      "display_name": "Python 3"
    },
    "language_info": {
      "name": "python"
    },
    "widgets": {
      "application/vnd.jupyter.widget-state+json": {
        "36abf0c55fe84a12b44fb64e80b1ea1f": {
          "model_module": "@jupyter-widgets/controls",
          "model_name": "TextModel",
          "model_module_version": "1.5.0",
          "state": {
            "_dom_classes": [],
            "_model_module": "@jupyter-widgets/controls",
            "_model_module_version": "1.5.0",
            "_model_name": "TextModel",
            "_view_count": null,
            "_view_module": "@jupyter-widgets/controls",
            "_view_module_version": "1.5.0",
            "_view_name": "TextView",
            "continuous_update": true,
            "description": "Name:",
            "description_tooltip": null,
            "disabled": false,
            "layout": "IPY_MODEL_12e81b8af0a14246ab9618ea2372df6d",
            "placeholder": "Type sales person name",
            "style": "IPY_MODEL_d8ba2afde2ca4261a3b5b4a0915bf765",
            "value": "Name"
          }
        },
        "12e81b8af0a14246ab9618ea2372df6d": {
          "model_module": "@jupyter-widgets/base",
          "model_name": "LayoutModel",
          "model_module_version": "1.2.0",
          "state": {
            "_model_module": "@jupyter-widgets/base",
            "_model_module_version": "1.2.0",
            "_model_name": "LayoutModel",
            "_view_count": null,
            "_view_module": "@jupyter-widgets/base",
            "_view_module_version": "1.2.0",
            "_view_name": "LayoutView",
            "align_content": null,
            "align_items": null,
            "align_self": null,
            "border": null,
            "bottom": null,
            "display": null,
            "flex": null,
            "flex_flow": null,
            "grid_area": null,
            "grid_auto_columns": null,
            "grid_auto_flow": null,
            "grid_auto_rows": null,
            "grid_column": null,
            "grid_gap": null,
            "grid_row": null,
            "grid_template_areas": null,
            "grid_template_columns": null,
            "grid_template_rows": null,
            "height": null,
            "justify_content": null,
            "justify_items": null,
            "left": null,
            "margin": null,
            "max_height": null,
            "max_width": null,
            "min_height": null,
            "min_width": null,
            "object_fit": null,
            "object_position": null,
            "order": null,
            "overflow": null,
            "overflow_x": null,
            "overflow_y": null,
            "padding": null,
            "right": null,
            "top": null,
            "visibility": null,
            "width": null
          }
        },
        "d8ba2afde2ca4261a3b5b4a0915bf765": {
          "model_module": "@jupyter-widgets/controls",
          "model_name": "DescriptionStyleModel",
          "model_module_version": "1.5.0",
          "state": {
            "_model_module": "@jupyter-widgets/controls",
            "_model_module_version": "1.5.0",
            "_model_name": "DescriptionStyleModel",
            "_view_count": null,
            "_view_module": "@jupyter-widgets/base",
            "_view_module_version": "1.2.0",
            "_view_name": "StyleView",
            "description_width": ""
          }
        },
        "2ab79d8ab4534550a270672a8a168ce8": {
          "model_module": "@jupyter-widgets/controls",
          "model_name": "DatePickerModel",
          "model_module_version": "1.5.0",
          "state": {
            "_dom_classes": [],
            "_model_module": "@jupyter-widgets/controls",
            "_model_module_version": "1.5.0",
            "_model_name": "DatePickerModel",
            "_view_count": null,
            "_view_module": "@jupyter-widgets/controls",
            "_view_module_version": "1.5.0",
            "_view_name": "DatePickerView",
            "description": "Pick a Date",
            "description_tooltip": null,
            "disabled": false,
            "layout": "IPY_MODEL_b920f0516e614e259e090231110489d0",
            "style": "IPY_MODEL_a8dd3adb40de496f9bead1f0af619008",
            "value": {
              "year": 2022,
              "month": 10,
              "date": 7
            }
          }
        },
        "b920f0516e614e259e090231110489d0": {
          "model_module": "@jupyter-widgets/base",
          "model_name": "LayoutModel",
          "model_module_version": "1.2.0",
          "state": {
            "_model_module": "@jupyter-widgets/base",
            "_model_module_version": "1.2.0",
            "_model_name": "LayoutModel",
            "_view_count": null,
            "_view_module": "@jupyter-widgets/base",
            "_view_module_version": "1.2.0",
            "_view_name": "LayoutView",
            "align_content": null,
            "align_items": null,
            "align_self": null,
            "border": null,
            "bottom": null,
            "display": null,
            "flex": null,
            "flex_flow": null,
            "grid_area": null,
            "grid_auto_columns": null,
            "grid_auto_flow": null,
            "grid_auto_rows": null,
            "grid_column": null,
            "grid_gap": null,
            "grid_row": null,
            "grid_template_areas": null,
            "grid_template_columns": null,
            "grid_template_rows": null,
            "height": null,
            "justify_content": null,
            "justify_items": null,
            "left": null,
            "margin": null,
            "max_height": null,
            "max_width": null,
            "min_height": null,
            "min_width": null,
            "object_fit": null,
            "object_position": null,
            "order": null,
            "overflow": null,
            "overflow_x": null,
            "overflow_y": null,
            "padding": null,
            "right": null,
            "top": null,
            "visibility": null,
            "width": null
          }
        },
        "a8dd3adb40de496f9bead1f0af619008": {
          "model_module": "@jupyter-widgets/controls",
          "model_name": "DescriptionStyleModel",
          "model_module_version": "1.5.0",
          "state": {
            "_model_module": "@jupyter-widgets/controls",
            "_model_module_version": "1.5.0",
            "_model_name": "DescriptionStyleModel",
            "_view_count": null,
            "_view_module": "@jupyter-widgets/base",
            "_view_module_version": "1.2.0",
            "_view_name": "StyleView",
            "description_width": ""
          }
        },
        "5bd39da3e4fe4791a1ce30340e58c57c": {
          "model_module": "@jupyter-widgets/controls",
          "model_name": "ButtonModel",
          "model_module_version": "1.5.0",
          "state": {
            "_dom_classes": [],
            "_model_module": "@jupyter-widgets/controls",
            "_model_module_version": "1.5.0",
            "_model_name": "ButtonModel",
            "_view_count": null,
            "_view_module": "@jupyter-widgets/controls",
            "_view_module_version": "1.5.0",
            "_view_name": "ButtonView",
            "button_style": "success",
            "description": "Calculate",
            "disabled": false,
            "icon": "check",
            "layout": "IPY_MODEL_fe51909f5c204fc69ee8c339d94f96f2",
            "style": "IPY_MODEL_2dc68a5b1f3a4b5ebf660dca59406a1b",
            "tooltip": "Click to calculate pay"
          }
        },
        "fe51909f5c204fc69ee8c339d94f96f2": {
          "model_module": "@jupyter-widgets/base",
          "model_name": "LayoutModel",
          "model_module_version": "1.2.0",
          "state": {
            "_model_module": "@jupyter-widgets/base",
            "_model_module_version": "1.2.0",
            "_model_name": "LayoutModel",
            "_view_count": null,
            "_view_module": "@jupyter-widgets/base",
            "_view_module_version": "1.2.0",
            "_view_name": "LayoutView",
            "align_content": null,
            "align_items": null,
            "align_self": null,
            "border": null,
            "bottom": null,
            "display": null,
            "flex": null,
            "flex_flow": null,
            "grid_area": null,
            "grid_auto_columns": null,
            "grid_auto_flow": null,
            "grid_auto_rows": null,
            "grid_column": null,
            "grid_gap": null,
            "grid_row": null,
            "grid_template_areas": null,
            "grid_template_columns": null,
            "grid_template_rows": null,
            "height": null,
            "justify_content": null,
            "justify_items": null,
            "left": null,
            "margin": null,
            "max_height": null,
            "max_width": null,
            "min_height": null,
            "min_width": null,
            "object_fit": null,
            "object_position": null,
            "order": null,
            "overflow": null,
            "overflow_x": null,
            "overflow_y": null,
            "padding": null,
            "right": null,
            "top": null,
            "visibility": null,
            "width": null
          }
        },
        "2dc68a5b1f3a4b5ebf660dca59406a1b": {
          "model_module": "@jupyter-widgets/controls",
          "model_name": "ButtonStyleModel",
          "model_module_version": "1.5.0",
          "state": {
            "_model_module": "@jupyter-widgets/controls",
            "_model_module_version": "1.5.0",
            "_model_name": "ButtonStyleModel",
            "_view_count": null,
            "_view_module": "@jupyter-widgets/base",
            "_view_module_version": "1.2.0",
            "_view_name": "StyleView",
            "button_color": null,
            "font_weight": ""
          }
        },
        "3ab9f4120660459cb0a642de35865196": {
          "model_module": "@jupyter-widgets/output",
          "model_name": "OutputModel",
          "model_module_version": "1.0.0",
          "state": {
            "_dom_classes": [],
            "_model_module": "@jupyter-widgets/output",
            "_model_module_version": "1.0.0",
            "_model_name": "OutputModel",
            "_view_count": null,
            "_view_module": "@jupyter-widgets/output",
            "_view_module_version": "1.0.0",
            "_view_name": "OutputView",
            "layout": "IPY_MODEL_cc973cbb7c794564b85dfd4a5edb9f0c",
            "msg_id": "",
            "outputs": []
          }
        },
        "cc973cbb7c794564b85dfd4a5edb9f0c": {
          "model_module": "@jupyter-widgets/base",
          "model_name": "LayoutModel",
          "model_module_version": "1.2.0",
          "state": {
            "_model_module": "@jupyter-widgets/base",
            "_model_module_version": "1.2.0",
            "_model_name": "LayoutModel",
            "_view_count": null,
            "_view_module": "@jupyter-widgets/base",
            "_view_module_version": "1.2.0",
            "_view_name": "LayoutView",
            "align_content": null,
            "align_items": null,
            "align_self": null,
            "border": null,
            "bottom": null,
            "display": null,
            "flex": null,
            "flex_flow": null,
            "grid_area": null,
            "grid_auto_columns": null,
            "grid_auto_flow": null,
            "grid_auto_rows": null,
            "grid_column": null,
            "grid_gap": null,
            "grid_row": null,
            "grid_template_areas": null,
            "grid_template_columns": null,
            "grid_template_rows": null,
            "height": null,
            "justify_content": null,
            "justify_items": null,
            "left": null,
            "margin": null,
            "max_height": null,
            "max_width": null,
            "min_height": null,
            "min_width": null,
            "object_fit": null,
            "object_position": null,
            "order": null,
            "overflow": null,
            "overflow_x": null,
            "overflow_y": null,
            "padding": null,
            "right": null,
            "top": null,
            "visibility": null,
            "width": null
          }
        }
      }
    }
  },
  "cells": [
    {
      "cell_type": "markdown",
      "metadata": {
        "id": "view-in-github",
        "colab_type": "text"
      },
      "source": [
        "<a href=\"https://colab.research.google.com/github/alfondace/ISYS5002/blob/main/11_pay_calculator_ipywidgets_updated.ipynb\" target=\"_parent\"><img src=\"https://colab.research.google.com/assets/colab-badge.svg\" alt=\"Open In Colab\"/></a>"
      ]
    },
    {
      "cell_type": "markdown",
      "source": [
        "# Pay Calculator\n",
        "\n",
        "Use this calculator to quickly estimate how much tax you will pay on your weekly income. This calculator conforms to official Australian Tax Office rates and formulas.\n",
        "\n",
        "\n",
        "## Widgets\n",
        "\n",
        "Widgets are eventful python objects that have a representation in the browser, often as a control like a slider, textbox, etc.\n",
        "\n",
        "You can use `ipywidgets` to build interactive GUIs for your notebooks.\n",
        "\n",
        "https://ipywidgets.readthedocs.io/en/latest/examples/Widget%20Basics.html"
      ],
      "metadata": {
        "id": "U19jneZPPOk6"
      }
    },
    {
      "cell_type": "code",
      "source": [
        "def calculate_ato_tax(income):\n",
        "  '''\n",
        "  Calculate the tax payable on yearly income based on the Australian Tax \n",
        "  Office Resident tax rates 2021–22 Taxable Income\n",
        "  '''\n",
        "  tax_payable = 0 # if income <= 18200:\n",
        "  if 18201 <= income <= 45000:\n",
        "    tax_payable = 0.19 * (income - 18200)\n",
        "  elif 45001 <= income <= 120000:\n",
        "    tax_payable = 5092 + 0.32 * (income - 45000)\n",
        "  elif 120001 <= income <= 180000:\n",
        "    tax_payable = 29467 + 0.37 * (income - 120000)\n",
        "  elif income >= 180001:\n",
        "    tax_payable = 51667 + 0.45 * (income - 180000)\n",
        "  return tax_payable\n",
        "\n",
        "def print_payslip(name, date, salary, sales):\n",
        "  commission = sales * 0.02\n",
        "  earnings = salary + commission\n",
        "  income = earnings * 52\n",
        "  tax = calculate_ato_tax(income) / 52\n",
        "  pay = earnings - tax\n",
        "\n",
        "  # Print pay slip\n",
        "  print(f'Payslip of {name} for week {date}')\n",
        "  print(f'Weekly Salary: ${salary:.2f} Commission: ${commission:.2f} Tax: ${tax:.2f}')\n",
        "  print(f'Take Home Pay ${pay:.2f}')\n",
        "\n",
        "\n",
        "##### Creating the Uder Interface #####\n",
        "\n",
        "# Create Interface\n",
        "#@title\n",
        "import ipywidgets as widgets\n",
        "from datetime import date\n",
        "\n",
        "title = widgets.HTML(\n",
        "    value=\"<h1>Pay Calculator<h1>\",\n",
        ")\n",
        "\n",
        "name = widgets.Text(\n",
        "    value='Name',\n",
        "    placeholder='Type sales person name',\n",
        "    description='Name:',\n",
        "    disabled=False\n",
        ")\n",
        "display(name)\n",
        "\n",
        "date = widgets.DatePicker(\n",
        "    value=date.today(),\n",
        "    description='Pick a Date',\n",
        "    disabled=False\n",
        ")\n",
        "display(date)\n",
        "\n",
        "\n",
        "# Need Salary input widget.  Try floatText\n",
        "\n",
        "\n",
        "\n",
        "# Need Sales input widget.  Try floatText\n",
        "\n",
        "\n",
        "\n",
        "\n",
        "calculate = widgets.Button(\n",
        "    description='Calculate',\n",
        "    disabled=False,\n",
        "    button_style='success',\n",
        "    tooltip='Click to calculate pay',\n",
        "    icon='check'\n",
        ")\n",
        "\n",
        "# widget to capture output form print() (sys.std.output)\n",
        "out = widgets.Output()\n",
        "#out = widgets.Output(layout={'border': '1px solid black'})\n",
        "\n",
        "#display the calculate button and display the resulting output\n",
        "display(calculate, out)\n",
        "\n",
        "# the function to call when button is clicked\n",
        "def on_button_clicked(calculate):\n",
        "    with out:\n",
        "        out.clear_output()\n",
        "        print_payslip(name.value, date.value, salary.value, sales.value)\n",
        "\n",
        "# button callback\n",
        "calculate.on_click(on_button_clicked, False)\n",
        "\n",
        "# collect all the widgets ina VBox widget, make a simple column\n",
        "#app = widgets.VBox([title, name, date,salary,sales, calculate, out])\n",
        "\n",
        "# run/display the app/form\n",
        "#app\n"
      ],
      "metadata": {
        "id": "BkFBsstuuVzd",
        "colab": {
          "base_uri": "https://localhost:8080/",
          "height": 111,
          "referenced_widgets": [
            "36abf0c55fe84a12b44fb64e80b1ea1f",
            "12e81b8af0a14246ab9618ea2372df6d",
            "d8ba2afde2ca4261a3b5b4a0915bf765",
            "2ab79d8ab4534550a270672a8a168ce8",
            "b920f0516e614e259e090231110489d0",
            "a8dd3adb40de496f9bead1f0af619008",
            "5bd39da3e4fe4791a1ce30340e58c57c",
            "fe51909f5c204fc69ee8c339d94f96f2",
            "2dc68a5b1f3a4b5ebf660dca59406a1b",
            "3ab9f4120660459cb0a642de35865196",
            "cc973cbb7c794564b85dfd4a5edb9f0c"
          ]
        },
        "outputId": "1d4964de-75c1-4653-84de-5d638dcbb480"
      },
      "execution_count": 1,
      "outputs": [
        {
          "output_type": "display_data",
          "data": {
            "text/plain": [
              "Text(value='Name', description='Name:', placeholder='Type sales person name')"
            ],
            "application/vnd.jupyter.widget-view+json": {
              "version_major": 2,
              "version_minor": 0,
              "model_id": "36abf0c55fe84a12b44fb64e80b1ea1f"
            }
          },
          "metadata": {}
        },
        {
          "output_type": "display_data",
          "data": {
            "text/plain": [
              "DatePicker(value=datetime.date(2022, 11, 7), description='Pick a Date')"
            ],
            "application/vnd.jupyter.widget-view+json": {
              "version_major": 2,
              "version_minor": 0,
              "model_id": "2ab79d8ab4534550a270672a8a168ce8"
            }
          },
          "metadata": {}
        },
        {
          "output_type": "display_data",
          "data": {
            "text/plain": [
              "Button(button_style='success', description='Calculate', icon='check', style=ButtonStyle(), tooltip='Click to c…"
            ],
            "application/vnd.jupyter.widget-view+json": {
              "version_major": 2,
              "version_minor": 0,
              "model_id": "5bd39da3e4fe4791a1ce30340e58c57c"
            }
          },
          "metadata": {}
        },
        {
          "output_type": "display_data",
          "data": {
            "text/plain": [
              "Output()"
            ],
            "application/vnd.jupyter.widget-view+json": {
              "version_major": 2,
              "version_minor": 0,
              "model_id": "3ab9f4120660459cb0a642de35865196"
            }
          },
          "metadata": {}
        }
      ]
    }
  ]
}