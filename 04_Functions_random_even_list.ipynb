{
  "nbformat": 4,
  "nbformat_minor": 0,
  "metadata": {
    "colab": {
      "name": "04_Functions_random_even_list.ipynb",
      "provenance": [],
      "collapsed_sections": [],
      "include_colab_link": true
    },
    "kernelspec": {
      "name": "python3",
      "display_name": "Python 3"
    },
    "language_info": {
      "name": "python"
    }
  },
  "cells": [
    {
      "cell_type": "markdown",
      "metadata": {
        "id": "view-in-github",
        "colab_type": "text"
      },
      "source": [
        "<a href=\"https://colab.research.google.com/github/alfondace/ISYS5002/blob/main/04_Functions_random_even_list.ipynb\" target=\"_parent\"><img src=\"https://colab.research.google.com/assets/colab-badge.svg\" alt=\"Open In Colab\"/></a>"
      ]
    },
    {
      "cell_type": "markdown",
      "source": [
        "# Task 1: Generate a list of *ten (10)* random *even* numbers using `while` loop"
      ],
      "metadata": {
        "id": "yoglYJWb3G5p"
      }
    },
    {
      "cell_type": "code",
      "source": [
        "\"\"\"\n",
        "This is a multi-line comments\n",
        "Generates a list of even numbers\n",
        "num -- the number of elements to be generated\n",
        "begin, end -- even numbers generated between specified begin and end range\n",
        "\"\"\"\n",
        "\n",
        "# import random module\n",
        "import random\n",
        "\n",
        "evenlist = []\n",
        "num = 11\n",
        "begin = 10\n",
        "end = 20\n",
        "\n",
        "counter = 1\n",
        "while (counter <= 10):\n",
        "  #print(\"Counter is \", counter)\n",
        "\n",
        "  # generate random number \n",
        "  randNum = random.randrange(begin, end) \n",
        "  print(randNum, \" is random number\")\n",
        "\n",
        "  # check if it it even number, if yes, add to list\n",
        "  if randNum % 2 == 0:  \n",
        "    evenlist.append(randNum)\n",
        "    counter = counter + 1\n",
        "    #print(\"Counter after increment\", counter)\n",
        "\n",
        "# display the even list\n",
        "print(evenlist)\n"
      ],
      "metadata": {
        "id": "XzaS3MJ2AG6U",
        "colab": {
          "base_uri": "https://localhost:8080/"
        },
        "outputId": "332722a9-0c13-4764-8aaf-b6746831c633"
      },
      "execution_count": 4,
      "outputs": [
        {
          "output_type": "stream",
          "name": "stdout",
          "text": [
            "13  is random number\n",
            "11  is random number\n",
            "17  is random number\n",
            "17  is random number\n",
            "15  is random number\n",
            "14  is random number\n",
            "18  is random number\n",
            "19  is random number\n",
            "13  is random number\n",
            "16  is random number\n",
            "17  is random number\n",
            "17  is random number\n",
            "18  is random number\n",
            "13  is random number\n",
            "10  is random number\n",
            "18  is random number\n",
            "11  is random number\n",
            "17  is random number\n",
            "10  is random number\n",
            "11  is random number\n",
            "17  is random number\n",
            "14  is random number\n",
            "11  is random number\n",
            "11  is random number\n",
            "18  is random number\n",
            "16  is random number\n",
            "[14, 18, 16, 18, 10, 18, 10, 14, 18, 16]\n"
          ]
        }
      ]
    },
    {
      "cell_type": "markdown",
      "source": [
        "### Try with different values"
      ],
      "metadata": {
        "id": "6xYzRb3CClsX"
      }
    },
    {
      "cell_type": "code",
      "source": [
        "\"\"\"\n",
        "This is a multi-line comments\n",
        "Generates a list of even numbers\n",
        "num -- the number of elements to be generated\n",
        "begin, end -- even numbers generated between specified begin and end range\n",
        "\"\"\"\n",
        "\n",
        "# import random module\n",
        "import random\n",
        "\n",
        "evenlist = []\n",
        "num = 11\n",
        "begin = 15\n",
        "end = 55\n",
        "\n",
        "counter = 1\n",
        "while (counter <= 15):\n",
        "  #print(\"Counter is \", counter)\n",
        "\n",
        "  # generate random number \n",
        "  randNum = random.randrange(begin, end) \n",
        "  print(randNum, \" is random number\")\n",
        "\n",
        "  # check if it it even number, if yes, add to list\n",
        "  if randNum % 2 == 0:  \n",
        "    evenlist.append(randNum)\n",
        "    counter = counter + 1\n",
        "    #print(\"Counter after increment\", counter)\n",
        "\n",
        "# display the even list\n",
        "print(evenlist)\n"
      ],
      "metadata": {
        "id": "8l_PM0vvC3CW",
        "colab": {
          "base_uri": "https://localhost:8080/"
        },
        "outputId": "5bd47ce8-2d88-44cd-c51a-0474fcc26b5e"
      },
      "execution_count": 7,
      "outputs": [
        {
          "output_type": "stream",
          "name": "stdout",
          "text": [
            "33  is random number\n",
            "46  is random number\n",
            "36  is random number\n",
            "18  is random number\n",
            "25  is random number\n",
            "41  is random number\n",
            "17  is random number\n",
            "30  is random number\n",
            "49  is random number\n",
            "29  is random number\n",
            "22  is random number\n",
            "23  is random number\n",
            "52  is random number\n",
            "15  is random number\n",
            "38  is random number\n",
            "15  is random number\n",
            "53  is random number\n",
            "24  is random number\n",
            "45  is random number\n",
            "34  is random number\n",
            "26  is random number\n",
            "33  is random number\n",
            "36  is random number\n",
            "20  is random number\n",
            "48  is random number\n",
            "24  is random number\n",
            "52  is random number\n",
            "[46, 36, 18, 30, 22, 52, 38, 24, 34, 26, 36, 20, 48, 24, 52]\n"
          ]
        }
      ]
    },
    {
      "cell_type": "markdown",
      "source": [
        "# Task 2: Generalise\n",
        "\n",
        "### Make what we changed as inputs (parameters) to a function"
      ],
      "metadata": {
        "id": "mqAewt8WC3cX"
      }
    },
    {
      "cell_type": "code",
      "source": [
        "def generate_even_list(num, begin, end):\n",
        "  # import random module\n",
        "  import random\n",
        "\n",
        "  evenlist = []\n",
        "  #begin = 15\n",
        "  #end = 55\n",
        "\n",
        "  counter = 1\n",
        "  while (counter <= num):\n",
        "    #print(\"Counter is \", counter)\n",
        "\n",
        "    # generate random number \n",
        "    randNum = random.randrange(begin, end) \n",
        "    #print(randNum, \" is random number\")\n",
        "\n",
        "    # check if it it even number, if yes, add to list\n",
        "    if randNum % 2 == 0:  \n",
        "      evenlist.append(randNum)\n",
        "      counter = counter + 1\n",
        "      #print(\"Counter after increment\", counter)\n",
        "\n",
        "    # display the even list\n",
        "  print(evenlist)\n"
      ],
      "metadata": {
        "id": "f3gFrgLoBfgF"
      },
      "execution_count": 42,
      "outputs": []
    },
    {
      "cell_type": "code",
      "source": [
        "generate_even_list() #function call"
      ],
      "metadata": {
        "id": "JMdck6vMBIDr"
      },
      "execution_count": 25,
      "outputs": []
    },
    {
      "cell_type": "code",
      "source": [
        "generate_even_list(15, 100, 150)"
      ],
      "metadata": {
        "colab": {
          "base_uri": "https://localhost:8080/"
        },
        "id": "MqATfl5_CYw5",
        "outputId": "b3c41cf6-b406-4376-aa1d-e9d64c55d31b"
      },
      "execution_count": 43,
      "outputs": [
        {
          "output_type": "stream",
          "name": "stdout",
          "text": [
            "[106, 144, 116, 142, 104, 102, 124, 128, 112, 114, 102, 120, 146, 128, 108]\n"
          ]
        }
      ]
    },
    {
      "cell_type": "markdown",
      "source": [
        "# Docstrings\n",
        "\n",
        "A docstring is a string literal that occurs as the first statement in a function, module, class, or method definition. \n",
        "\n",
        "Docstring encased in triple `\"\"\"` quotes.\n",
        "\n",
        "Docstrings are used to describe a function. \n",
        " - what a function does, \n",
        " - the number of arguments it takes\n",
        " - the type of object it returns, etc\n",
        "\n",
        "https://peps.python.org/pep-0257/#what-is-a-docstring"
      ],
      "metadata": {
        "id": "-vluWzf0aJDF"
      }
    },
    {
      "cell_type": "code",
      "source": [
        ""
      ],
      "metadata": {
        "id": "oCq3n9_5Cawu"
      },
      "execution_count": null,
      "outputs": []
    },
    {
      "cell_type": "markdown",
      "source": [
        "# Task 3 (Optional): Write a function that takes a list as an argument and generate two lists, even list and odd list.\n",
        "\n",
        "### *Try with `for` loop*"
      ],
      "metadata": {
        "id": "8Tx-b-9EHOpH"
      }
    },
    {
      "cell_type": "code",
      "source": [
        ""
      ],
      "metadata": {
        "id": "lvQDKMHNHPxe"
      },
      "execution_count": null,
      "outputs": []
    }
  ]
}