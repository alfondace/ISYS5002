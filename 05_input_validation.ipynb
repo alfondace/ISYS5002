{
  "cells": [
    {
      "cell_type": "markdown",
      "metadata": {
        "id": "view-in-github",
        "colab_type": "text"
      },
      "source": [
        "<a href=\"https://colab.research.google.com/github/alfondace/ISYS5002/blob/main/05_input_validation.ipynb\" target=\"_parent\"><img src=\"https://colab.research.google.com/assets/colab-badge.svg\" alt=\"Open In Colab\"/></a>"
      ]
    },
    {
      "cell_type": "markdown",
      "id": "b5835b0c",
      "metadata": {
        "id": "b5835b0c"
      },
      "source": [
        "# Input Validation\n",
        "\n",
        "Input validation code verifies that user supplied data, such as text from the input() function, is formatted appropriately.\n",
        "\n",
        "* isdigit()\n",
        "* try/except\n",
        "* PyInputPlus\n",
        "\n"
      ]
    },
    {
      "cell_type": "code",
      "source": [
        "salaryStr = input (\"Enter the hourly pay rate: \")\n",
        "\n",
        "print = (salaryStr)"
      ],
      "metadata": {
        "id": "BA8h-pV08W0s"
      },
      "id": "BA8h-pV08W0s",
      "execution_count": null,
      "outputs": []
    },
    {
      "cell_type": "markdown",
      "id": "acc7252b",
      "metadata": {
        "id": "acc7252b"
      },
      "source": [
        "## isdigit()"
      ]
    },
    {
      "cell_type": "code",
      "execution_count": 2,
      "id": "695b1f5f",
      "metadata": {
        "id": "695b1f5f",
        "colab": {
          "base_uri": "https://localhost:8080/"
        },
        "outputId": "50cf7768-8298-40d7-9278-ea118bf5b060"
      },
      "outputs": [
        {
          "output_type": "stream",
          "name": "stdout",
          "text": [
            "Enter the hourly pay rate: a\n",
            "Invalid input, please enter a numeric value for pay rate\n",
            "Enter the hourly pay rate: a\n",
            "Invalid input, please enter a numeric value for pay rate\n",
            "Enter the hourly pay rate: 12\n",
            "The pay rate is:  12\n"
          ]
        }
      ],
      "source": [
        "while True:\n",
        "  salaryStr = input (\"Enter the hourly pay rate: \")\n",
        "\n",
        "  if salaryStr.isdecimal():\n",
        "    float(salaryStr)\n",
        "    break\n",
        "  else:\n",
        "    print(\"Invalid input, please enter a numeric value for pay rate\")\n",
        "print(\"The pay rate is: \", salaryStr)"
      ]
    },
    {
      "cell_type": "code",
      "source": [
        ""
      ],
      "metadata": {
        "id": "2T1VPdz4e35q"
      },
      "id": "2T1VPdz4e35q",
      "execution_count": null,
      "outputs": []
    },
    {
      "cell_type": "markdown",
      "source": [
        "## try/except"
      ],
      "metadata": {
        "id": "qbYXnPLGeY6m"
      },
      "id": "qbYXnPLGeY6m"
    },
    {
      "cell_type": "code",
      "execution_count": 4,
      "id": "5f98c241",
      "metadata": {
        "id": "5f98c241",
        "colab": {
          "base_uri": "https://localhost:8080/"
        },
        "outputId": "ef6d8c69-c146-4fcb-a0bc-e67733382f08"
      },
      "outputs": [
        {
          "output_type": "stream",
          "name": "stdout",
          "text": [
            "Enter the hourly pay rate: a\n",
            "Please enter a valid input\n"
          ]
        }
      ],
      "source": [
        "try:\n",
        "  pay_rate = float(input(\"Enter the hourly pay rate: \"))\n",
        "except:\n",
        "  print(\"Please enter a valid input\")"
      ]
    },
    {
      "cell_type": "code",
      "source": [
        "try:\n",
        "  pay_rate = float(input(\"Enter the hourly pay rate: \"))\n",
        "except ValueError:\n",
        "  print(\"Please enter a valid input\")\n",
        "except:\n",
        "  print(\"Error occured, please check your input\")"
      ],
      "metadata": {
        "id": "zrBmlwko8D6Z",
        "colab": {
          "base_uri": "https://localhost:8080/"
        },
        "outputId": "7f23ad98-7312-43e1-ecfb-d1ad3b782cf6"
      },
      "id": "zrBmlwko8D6Z",
      "execution_count": 9,
      "outputs": [
        {
          "output_type": "stream",
          "name": "stdout",
          "text": [
            "Enter the hourly pay rate: 24d\n",
            "Please enter a valid input\n"
          ]
        }
      ]
    },
    {
      "cell_type": "code",
      "source": [
        "try:\n",
        "  pay_rate = float(input(\"Enter the hourly pay rate: \"))\n",
        "except ZeroDivisionError as err:\n",
        "  print(\"Please enter a valid input\", err)\n",
        "except:\n",
        "  print(\"Error occured, please check your input\")\n",
        "\n",
        "print(\"The pay rate is: \", pay_rate)"
      ],
      "metadata": {
        "colab": {
          "base_uri": "https://localhost:8080/"
        },
        "id": "-3t6lrNQBXnC",
        "outputId": "bf7938a7-b312-4af4-96c7-f70faff240d3"
      },
      "id": "-3t6lrNQBXnC",
      "execution_count": 18,
      "outputs": [
        {
          "output_type": "stream",
          "name": "stdout",
          "text": [
            "Enter the hourly pay rate: \n",
            "Error occured, please check your input\n",
            "The pay rate is:  24.0\n"
          ]
        }
      ]
    },
    {
      "cell_type": "markdown",
      "id": "18c00dc3",
      "metadata": {
        "id": "18c00dc3"
      },
      "source": [
        "## Module: PyInputPlus"
      ]
    },
    {
      "cell_type": "code",
      "execution_count": 10,
      "id": "dfe1740b",
      "metadata": {
        "id": "dfe1740b",
        "colab": {
          "base_uri": "https://localhost:8080/"
        },
        "outputId": "443c5ef7-abc2-4bb2-8c8c-502ef7a26d46"
      },
      "outputs": [
        {
          "output_type": "stream",
          "name": "stdout",
          "text": [
            "Looking in indexes: https://pypi.org/simple, https://us-python.pkg.dev/colab-wheels/public/simple/\n",
            "Collecting PyInputPlus\n",
            "  Downloading PyInputPlus-0.2.12.tar.gz (20 kB)\n",
            "  Installing build dependencies ... \u001b[?25l\u001b[?25hdone\n",
            "  Getting requirements to build wheel ... \u001b[?25l\u001b[?25hdone\n",
            "    Preparing wheel metadata ... \u001b[?25l\u001b[?25hdone\n",
            "Collecting stdiomask>=0.0.3\n",
            "  Downloading stdiomask-0.0.6.tar.gz (3.6 kB)\n",
            "  Installing build dependencies ... \u001b[?25l\u001b[?25hdone\n",
            "  Getting requirements to build wheel ... \u001b[?25l\u001b[?25hdone\n",
            "    Preparing wheel metadata ... \u001b[?25l\u001b[?25hdone\n",
            "Collecting pysimplevalidate>=0.2.7\n",
            "  Downloading PySimpleValidate-0.2.12.tar.gz (22 kB)\n",
            "  Installing build dependencies ... \u001b[?25l\u001b[?25hdone\n",
            "  Getting requirements to build wheel ... \u001b[?25l\u001b[?25hdone\n",
            "    Preparing wheel metadata ... \u001b[?25l\u001b[?25hdone\n",
            "Building wheels for collected packages: PyInputPlus, pysimplevalidate, stdiomask\n",
            "  Building wheel for PyInputPlus (PEP 517) ... \u001b[?25l\u001b[?25hdone\n",
            "  Created wheel for PyInputPlus: filename=PyInputPlus-0.2.12-py3-none-any.whl size=11315 sha256=a48777e35970a6273cf4836f2c7feaf5fedc2e8f45c238c29ad43392305a0cd3\n",
            "  Stored in directory: /root/.cache/pip/wheels/e7/33/73/719f8f1bd984d39face880fd22f6c5ef1b85f726e84c687094\n",
            "  Building wheel for pysimplevalidate (PEP 517) ... \u001b[?25l\u001b[?25hdone\n",
            "  Created wheel for pysimplevalidate: filename=PySimpleValidate-0.2.12-py3-none-any.whl size=16193 sha256=224b23f0b9b18b1de193f009711121d44f3564adb6cfb926a51e3b68e905ce64\n",
            "  Stored in directory: /root/.cache/pip/wheels/5a/8b/6c/2925d22b93860bdc9b8ce02c3d2cf79336606f7469cef66065\n",
            "  Building wheel for stdiomask (PEP 517) ... \u001b[?25l\u001b[?25hdone\n",
            "  Created wheel for stdiomask: filename=stdiomask-0.0.6-py3-none-any.whl size=3321 sha256=9afec5423a93007b5ac07d042dbc6fcf1c3ab292191497282d1fa25038cf169a\n",
            "  Stored in directory: /root/.cache/pip/wheels/cf/13/89/64d0d3b167759523f4c1e68f883bbc30e7bfa27050edeb418e\n",
            "Successfully built PyInputPlus pysimplevalidate stdiomask\n",
            "Installing collected packages: stdiomask, pysimplevalidate, PyInputPlus\n",
            "Successfully installed PyInputPlus-0.2.12 pysimplevalidate-0.2.12 stdiomask-0.0.6\n"
          ]
        }
      ],
      "source": [
        "pip install PyInputPlus"
      ]
    },
    {
      "cell_type": "code",
      "source": [
        "import pyinputplus as pyip\n",
        "\n",
        "while True:\n",
        "  payRate = pyip.inputFloat(\"Enter the pay rate: \")\n",
        "  print(\"The pay rate is: \", payRate)\n",
        "\n",
        "  response = pyip.inputYesNo(\"Do you want to continue? \")\n",
        "  if response == 'no':\n",
        "    break"
      ],
      "metadata": {
        "id": "OvqPitIkh379",
        "colab": {
          "base_uri": "https://localhost:8080/"
        },
        "outputId": "6be76a1c-2ac1-4896-aad1-539230a77058"
      },
      "id": "OvqPitIkh379",
      "execution_count": 21,
      "outputs": [
        {
          "name": "stdout",
          "output_type": "stream",
          "text": [
            "Enter the pay rate: 2d\n",
            "'2d' is not a float.\n",
            "Enter the pay rate: 24\n",
            "The pay rate is:  24.0\n",
            "Do you want to continue? yes\n",
            "Enter the pay rate: 225\n",
            "The pay rate is:  225.0\n",
            "Do you want to continue? no\n"
          ]
        }
      ]
    },
    {
      "cell_type": "markdown",
      "source": [
        "# Task: Implement input validation for Pay slip program\n",
        "\n",
        "- forthnightly payslip for hourly paid employee\n",
        "- pay after tax each forthnight"
      ],
      "metadata": {
        "id": "C2lOxtVxAbUf"
      },
      "id": "C2lOxtVxAbUf"
    }
  ],
  "metadata": {
    "kernelspec": {
      "display_name": "Python 3 (ipykernel)",
      "language": "python",
      "name": "python3"
    },
    "language_info": {
      "codemirror_mode": {
        "name": "ipython",
        "version": 3
      },
      "file_extension": ".py",
      "mimetype": "text/x-python",
      "name": "python",
      "nbconvert_exporter": "python",
      "pygments_lexer": "ipython3",
      "version": "3.9.6"
    },
    "colab": {
      "name": "05_input_validation.ipynb",
      "provenance": [],
      "collapsed_sections": [],
      "include_colab_link": true
    }
  },
  "nbformat": 4,
  "nbformat_minor": 5
}