{
  "nbformat": 4,
  "nbformat_minor": 0,
  "metadata": {
    "colab": {
      "name": "Module02_SimpleInterestCalculator.ipynb",
      "provenance": [],
      "collapsed_sections": [],
      "include_colab_link": true
    },
    "kernelspec": {
      "name": "python3",
      "display_name": "Python 3"
    },
    "language_info": {
      "name": "python"
    }
  },
  "cells": [
    {
      "cell_type": "markdown",
      "metadata": {
        "id": "view-in-github",
        "colab_type": "text"
      },
      "source": [
        "<a href=\"https://colab.research.google.com/github/alfondace/ISYS5002/blob/main/Module02_SimpleInterestCalculator.ipynb\" target=\"_parent\"><img src=\"https://colab.research.google.com/assets/colab-badge.svg\" alt=\"Open In Colab\"/></a>"
      ]
    },
    {
      "cell_type": "markdown",
      "source": [
        "# Simple Interest Calculator\n",
        "\n",
        "The process of problem solving we will use can be broken down into 6 key steps:\n",
        "1. State the problem clearly\n",
        "2. Describe the input and output information\n",
        "3. Work the problem by hand\n",
        "4. Develop an algorithm / pseudocode\n",
        "5. Convert pseudoce to Python program code\n",
        "6. Test solution with a variety of data\n",
        "\n",
        "## Work Flow\n",
        "1. Save to Github\n",
        "2. Analyse problem/requirement & Design the algorithm/pseudocode\n",
        "3. Write and test the program"
      ],
      "metadata": {
        "id": "iGq9-ZTb3VCF"
      }
    },
    {
      "cell_type": "markdown",
      "source": [
        "# Problem/Requirement:\n",
        "\n",
        "Bank ABC wants to calculate their client's loan interest using the simple interest method as explained at https://www.bankrate.com/loans/personal-loans/how-to-calculate-loan-interest/\n",
        "\n",
        "Write a program for bank ABC to compute the loan interest on their client's borrowed amount based on the simple interest method. \n",
        "\n",
        "\n",
        "\n",
        "\n"
      ],
      "metadata": {
        "id": "bhfP5hvE4k7C"
      }
    },
    {
      "cell_type": "markdown",
      "source": [
        "# 1. State Problem Clearly"
      ],
      "metadata": {
        "id": "DSkLjERz3vF4"
      }
    },
    {
      "cell_type": "markdown",
      "source": [
        "    Calculate the total loan interest\n",
        "    Then display the calculated interest"
      ],
      "metadata": {
        "id": "tVaK-EQo4ff8"
      }
    },
    {
      "cell_type": "markdown",
      "source": [
        "# 2. Describe Inputs and Outputs"
      ],
      "metadata": {
        "id": "25s3HK5730CD"
      }
    },
    {
      "cell_type": "markdown",
      "source": [
        "               +-----------+\n",
        "               |           |\n",
        "    INPUT ---> | Algorithm | ---> OUTPUT\n",
        "               |           |\n",
        "               ------------+"
      ],
      "metadata": {
        "id": "gRhPyRGYbtXB"
      }
    },
    {
      "cell_type": "markdown",
      "source": [
        "    Inputs --> principle loan amount, interest rate, and number of years in term\n",
        "\n",
        "    Processing:\n",
        "\n",
        "    Output --> total interest paid"
      ],
      "metadata": {
        "id": "JLhIpogG4gKn"
      }
    },
    {
      "cell_type": "markdown",
      "source": [
        "# 3. Work the problem by hand - worked example"
      ],
      "metadata": {
        "id": "6f4dt-ln37HF"
      }
    },
    {
      "cell_type": "markdown",
      "source": [
        "Example\n",
        "\n",
        "    Principle loan amount = $50000\n",
        "    Interest rate = 0.05\n",
        "    Number of years in term = 5\n",
        "\n",
        "Manual calculation\n",
        "\n",
        "    $50000 x 0.05 x 5\n",
        "\n",
        "and the total interest paid is $12500"
      ],
      "metadata": {
        "id": "RQ-us6qf4g5A"
      }
    },
    {
      "cell_type": "markdown",
      "source": [
        "# 4. Develop an Algorithm/Pseudocode"
      ],
      "metadata": {
        "id": "LoEHWS9p4Edn"
      }
    },
    {
      "cell_type": "markdown",
      "source": [
        "    Get the input data\n",
        "    Calculate the total interest paid\n",
        "    Display the total interest paid"
      ],
      "metadata": {
        "id": "pBknQciS4KeR"
      }
    },
    {
      "cell_type": "markdown",
      "source": [
        "# 5. Convert Pseudocode to Python Code"
      ],
      "metadata": {
        "id": "dtlaNDkf4TZ0"
      }
    },
    {
      "cell_type": "code",
      "execution_count": 2,
      "metadata": {
        "id": "gh53G9xt2_KJ",
        "colab": {
          "base_uri": "https://localhost:8080/"
        },
        "outputId": "89a19390-0624-429d-c186-402fadcdc9e5"
      },
      "outputs": [
        {
          "output_type": "stream",
          "name": "stdout",
          "text": [
            "Enter loan amount: 50000\n",
            "Enter interest rate: 0.05\n",
            "Enter number of years in term: 5\n",
            "The total interest paid is: $12500.00\n"
          ]
        }
      ],
      "source": [
        "# Compute the total interest paid. \n",
        "\n",
        "# Get the principle loan amount\n",
        "Loan_Amount = float(input ('Enter loan amount: '))\n",
        "# Get the interest rate\n",
        "Interest_Rate = float(input ('Enter interest rate: '))\n",
        "# Get the number of years in term\n",
        "Number_of_Years = float(input ('Enter number of years in term: '))\n",
        "# Total interest paid = Loan_Amount * Interest_Rate * Number_of_Years\n",
        "Interest_Paid = Loan_Amount * Interest_Rate * Number_of_Years\n",
        "# Display The Total Interest Paid is: Interest_Paid\n",
        "print ('The total interest paid is: $', format(Interest_Paid, '.2f'), sep=\"\")"
      ]
    },
    {
      "cell_type": "markdown",
      "source": [
        "# 6. Test Solution with a variety of data"
      ],
      "metadata": {
        "id": "4gSCYBI74Yf-"
      }
    },
    {
      "cell_type": "code",
      "source": [
        "# Compute the total interest paid. \n",
        "\n",
        "# Get the principle loan amount\n",
        "Loan_Amount = float(input ('Enter loan amount: '))\n",
        "# Get the interest rate\n",
        "Interest_Rate = float(input ('Enter interest rate: '))\n",
        "# Get the number of years in term\n",
        "Number_of_Years = float(input ('Enter number of years in term: '))\n",
        "# Total interest paid = Loan_Amount * Interest_Rate * Number_of_Years\n",
        "Interest_Paid = Loan_Amount * Interest_Rate * Number_of_Years\n",
        "# Display The Total Interest Paid is: Interest_Paid\n",
        "print ('The total interest paid is: $', format(Interest_Paid, '.2f'), sep=\"\")"
      ],
      "metadata": {
        "id": "s5tVf-P44dTj",
        "colab": {
          "base_uri": "https://localhost:8080/"
        },
        "outputId": "8e59050d-f130-47ff-85be-231235468650"
      },
      "execution_count": 3,
      "outputs": [
        {
          "output_type": "stream",
          "name": "stdout",
          "text": [
            "Enter loan amount: 10000\n",
            "Enter interest rate: 0.10\n",
            "Enter number of years in term: 5\n",
            "The total interest paid is: $5000.00\n"
          ]
        }
      ]
    }
  ]
}